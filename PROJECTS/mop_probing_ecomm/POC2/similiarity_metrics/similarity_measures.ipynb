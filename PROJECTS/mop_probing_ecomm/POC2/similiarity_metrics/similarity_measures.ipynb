{
 "cells": [
  {
   "cell_type": "code",
   "execution_count": 4,
   "metadata": {},
   "outputs": [],
   "source": [
    "from os import path\n",
    "import pandas as pd\n",
    "from config import SIMILARITY_PATH, EMBEDDING_PATH, PRETRAIN_OUTPUT_PATH\n",
    "from emb_extr_res.emb_extr_res import get_embeddings_df, get_pairs_similarity_df, get_pretrain_agg_similarity\n",
    "from load_data.wdc.load_wdc_dataset import EnglishDatasetLoader\n",
    "import numpy as np\n",
    "import matplotlib.pyplot as plt\n",
    "from sklearn.ensemble import RandomForestClassifier\n",
    "from sklearn.metrics import accuracy_score\n",
    "from xgboost import XGBClassifier\n",
    "from sklearn import preprocessing\n",
    "from sklearn.linear_model import LogisticRegression\n",
    "from sklearn.model_selection import train_test_split\n",
    "import seaborn as sns\n",
    "import jaro\n",
    "from rapidfuzz.distance import Levenshtein\n",
    "from tqdm import tqdm"
   ]
  },
  {
   "cell_type": "code",
   "execution_count": 5,
   "metadata": {},
   "outputs": [],
   "source": [
    "def jaccard_similarity(x,y):\n",
    "    sentences = [x,y]\n",
    "    sentences = [sent.lower().split(\" \") for sent in sentences]\n",
    "\n",
    "    intersection_cardinality = len(set.intersection(*[set(x), set(y)]))\n",
    "    union_cardinality = len(set.union(*[set(x), set(y)]))\n",
    "    return intersection_cardinality/float(union_cardinality)\n"
   ]
  },
  {
   "cell_type": "code",
   "execution_count": 6,
   "metadata": {},
   "outputs": [],
   "source": [
    "dataset_type = \"computers\"\n",
    "dataset_size = \"medium\""
   ]
  },
  {
   "cell_type": "code",
   "execution_count": 7,
   "metadata": {},
   "outputs": [],
   "source": [
    "train_df = EnglishDatasetLoader.load_train(dataset_type, dataset_size)"
   ]
  },
  {
   "cell_type": "code",
   "execution_count": 8,
   "metadata": {},
   "outputs": [],
   "source": [
    "def calculate_string_metric(string1, string2):\n",
    "\n",
    "    jaro_metric = jaro.jaro_winkler_metric(string1, string2)\n",
    "    lev_metric = Levenshtein.normalized_similarity(string1, string2)\n",
    "    jacard_metric = jaccard_similarity(string1, string2)\n",
    "\n",
    "    \n",
    "    return jaro_metric, lev_metric, jacard_metric"
   ]
  },
  {
   "cell_type": "code",
   "execution_count": 9,
   "metadata": {},
   "outputs": [],
   "source": [
    "def extract_titles(df_train, id_1= 0, id_0 = 1762):\n",
    "\n",
    "    df_train_1 = df_train[df_train[\"label\"]==1]\n",
    "    df_train_0 = df_train[df_train[\"label\"]==0]\n",
    "\n",
    "    sample_similar = df_train_1.loc[id_1,[\"title_left\", \"title_right\"]].values\n",
    "    sample_nonsimilar = df_train_0.loc[id_0,[\"title_left\", \"title_right\"]].values\n",
    "    \n",
    "    measures_similar = calculate_string_metric(sample_similar[0], sample_similar[1])\n",
    "    measures_nonsimilar = calculate_string_metric(sample_nonsimilar[0], sample_nonsimilar[1])\n",
    "\n",
    "    return sample_similar, measures_similar, sample_nonsimilar, measures_nonsimilar\n"
   ]
  },
  {
   "cell_type": "code",
   "execution_count": 10,
   "metadata": {},
   "outputs": [],
   "source": [
    "def calculate_statistics_metric(train_df):\n",
    "\n",
    "    df_train_1 = train_df[train_df[\"label\"]==1]\n",
    "    df_train_0 = train_df[train_df[\"label\"]==0]\n",
    "\n",
    "    similarity_1_jaro = []\n",
    "    similarity_1_leven = []\n",
    "    similarity_1_jaccard = []\n",
    "\n",
    "    similarity_0_jaro = []\n",
    "    similarity_0_leven = []\n",
    "    similarity_0_jaccard = []\n",
    "\n",
    "\n",
    "\n",
    "    for string1, string2 in tqdm(df_train_1[[\"title_left\", \"title_right\"]].values):\n",
    "\n",
    "        javo, leven, jaccard = calculate_string_metric(string1, string2)\n",
    "        similarity_1_jaro.append(javo)\n",
    "        similarity_1_leven.append(leven)\n",
    "        similarity_1_jaccard.append(jaccard)\n",
    "\n",
    "\n",
    "    for string1, string2 in tqdm(df_train_0[[\"title_left\", \"title_right\"]].values):\n",
    "\n",
    "        javo, leven, jaccard = calculate_string_metric(string1, string2)\n",
    "        similarity_0_jaro.append(javo)\n",
    "        similarity_0_leven.append(leven)\n",
    "        similarity_0_jaccard.append(jaccard)\n",
    "\n",
    "\n",
    "    plt.hist(similarity_0_jaro, label=\"non similar\", alpha=  0.5, density=True)\n",
    "    plt.hist(similarity_1_jaro, label = \"similar\", alpha=  0.5, density=True)\n",
    "\n",
    "    plt.title(\"Javo metric\")\n",
    "    plt.legend()\n",
    "    plt.show()\n",
    "    \n",
    "    plt.hist(similarity_0_leven, label=\"non similar\", alpha=  0.5, density=True)\n",
    "    plt.hist(similarity_1_leven, label=\"similar\", alpha=  0.5, density=True)\n",
    "\n",
    "    plt.title(\"Levenstein metric\")\n",
    "    plt.legend()\n",
    "    plt.show()\n",
    "    \n",
    "\n",
    "    plt.hist(similarity_0_jaccard, label=\"non similar\", alpha=  0.5, density=True)\n",
    "    plt.hist(similarity_1_jaccard, label=\"similar\", alpha=  0.5, density=True)\n",
    "\n",
    "    plt.title(\"Jaccard metric\")\n",
    "    plt.legend()\n",
    "\n",
    "    plt.show()\n",
    "\n",
    "\n",
    "\n",
    "\n"
   ]
  },
  {
   "cell_type": "code",
   "execution_count": 107,
   "metadata": {},
   "outputs": [
    {
     "name": "stderr",
     "output_type": "stream",
     "text": [
      "100%|██████████| 1762/1762 [00:00<00:00, 6220.40it/s]\n",
      "100%|██████████| 6332/6332 [00:01<00:00, 5526.41it/s]\n"
     ]
    },
    {
     "data": {
      "image/png": "[encoded data removed]",
      "text/plain": [
       "<Figure size 432x288 with 1 Axes>"
      ]
     },
     "metadata": {
      "needs_background": "light"
     },
     "output_type": "display_data"
    },
    {
     "data": {
      "image/png": "[encoded data removed]",
      "text/plain": [
       "<Figure size 432x288 with 1 Axes>"
      ]
     },
     "metadata": {
      "needs_background": "light"
     },
     "output_type": "display_data"
    },
    {
     "data": {
      "image/png": "[encoded data removed]",
      "text/plain": [
       "<Figure size 432x288 with 1 Axes>"
      ]
     },
     "metadata": {
      "needs_background": "light"
     },
     "output_type": "display_data"
    }
   ],
   "source": [
    "calculate_statistics_metric(train_df)"
   ]
  },
  {
   "attachments": {},
   "cell_type": "markdown",
   "metadata": {},
   "source": [
    "### Same offers"
   ]
  },
  {
   "cell_type": "code",
   "execution_count": 17,
   "metadata": {},
   "outputs": [
    {
     "name": "stdout",
     "output_type": "stream",
     "text": [
      "Sentance 1:  495906 b21 hp x5560 2 80ghz ml350 g6 , null new wholesale price\n",
      "Sentance 2:  null , 495906 b21 hp x5560 2 80ghz ml350 g6\n",
      "Javo metric:  0.6881619672317346\n",
      "Levenstein metric 0.46031746031746035\n",
      "Jaccard metric:  0.7241379310344828\n"
     ]
    }
   ],
   "source": [
    "print(\"Sentance 1: \", extract_titles(train_df)[0][0])\n",
    "print(\"Sentance 2: \", extract_titles(train_df)[0][1])\n",
    "print(\"Javo metric: \", extract_titles(train_df)[1][0])\n",
    "print(\"Levenstein metric\", extract_titles(train_df)[1][1])\n",
    "print(\"Jaccard metric: \", extract_titles(train_df)[1][2])\n"
   ]
  },
  {
   "attachments": {},
   "cell_type": "markdown",
   "metadata": {},
   "source": [
    "### DIfferent Offers"
   ]
  },
  {
   "cell_type": "code",
   "execution_count": 27,
   "metadata": {},
   "outputs": [
    {
     "name": "stdout",
     "output_type": "stream",
     "text": [
      "Sentance 1:  495906 b21 hp x5560 2 80ghz ml350 g6 , null new wholesale price\n",
      "Sentance 2:  hp amd opteron 8384 prijzen tweakers\n",
      "Javo metric:  0.511904761904762\n",
      "Levenstein metric 0.2063492063492064\n",
      "Jaccard metric:  0.48484848484848486\n"
     ]
    }
   ],
   "source": [
    "print(\"Sentance 1: \", extract_titles(train_df, id_0 = 1768)[2][0])\n",
    "print(\"Sentance 2: \", extract_titles(train_df, id_0 = 1768)[2][1])\n",
    "print(\"Javo metric: \", extract_titles(train_df, id_0 = 1768)[3][0])\n",
    "print(\"Levenstein metric\", extract_titles(train_df, id_0 = 1768)[3][1])\n",
    "print(\"Jaccard metric: \", extract_titles(train_df, id_0 = 1768)[3][2])\n"
   ]
  }
 ],
 "metadata": {
  "kernelspec": {
   "display_name": "Python 3.9.7 ('base')",
   "language": "python",
   "name": "python3"
  },
  "language_info": {
   "codemirror_mode": {
    "name": "ipython",
    "version": 3
   },
   "file_extension": ".py",
   "mimetype": "text/x-python",
   "name": "python",
   "nbconvert_exporter": "python",
   "pygments_lexer": "ipython3",
   "version": "3.9.7"
  },
  "orig_nbformat": 4,
  "vscode": {
   "interpreter": {
    "hash": "b90b5480b90dfd82255d68efb607ef96370ef33575f247c89a0b81cbaa1e7b55"
   }
  }
 },
 "nbformat": 4,
 "nbformat_minor": 2
}
