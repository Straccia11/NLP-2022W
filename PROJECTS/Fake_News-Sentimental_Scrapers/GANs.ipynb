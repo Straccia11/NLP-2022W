{
  "nbformat": 4,
  "nbformat_minor": 0,
  "metadata": {
    "colab": {
      "provenance": []
    },
    "kernelspec": {
      "name": "python3",
      "display_name": "Python 3"
    },
    "language_info": {
      "name": "python"
    },
    "accelerator": "GPU",
    "gpuClass": "standard"
  },
  "cells": [
    {
      "cell_type": "code",
      "source": [
        "import spacy\n",
        "import pandas as pd\n",
        "import numpy as np\n",
        "import re\n",
        "import string\n",
        "from wordcloud import STOPWORDS\n",
        "import os\n",
        "os.chdir('/content/drive/MyDrive/PROJECTS/Fake_News-Sentimental_Scrapers')"
      ],
      "metadata": {
        "id": "8adhWmHrH1Fe"
      },
      "execution_count": null,
      "outputs": []
    },
    {
      "cell_type": "code",
      "source": [
        "dataset_fake = pd.read_csv( os.getcwd() + \"/data/ISOT/Fake.csv.zip\")\n",
        "dataset_fake['label'] = 0\n",
        "dataset_true = pd.read_csv (os.getcwd() + \"/data/ISOT/True.csv.zip\")\n",
        "dataset_true['label'] = 1\n",
        "ISOT_dataset = pd.concat([dataset_fake, dataset_true])"
      ],
      "metadata": {
        "id": "IxQZssPVD1Y1"
      },
      "execution_count": null,
      "outputs": []
    },
    {
      "cell_type": "code",
      "source": [
        "FN_dataset = pd.read_csv(os.getcwd() + \"/data/FakeNews/train.csv.zip\")\n",
        "FN_dataset.dropna(inplace=True)"
      ],
      "metadata": {
        "id": "-6FjU80mH1on"
      },
      "execution_count": null,
      "outputs": []
    },
    {
      "cell_type": "code",
      "source": [
        "class DataPreprocessing():\n",
        "    # python -m spacy download en_core_web_sm\n",
        "    _nlp = spacy.load('en_core_web_sm')\n",
        "    _punctuations= \"?:!.,;\"\n",
        "    _stop_words = [\"https\", \"ul\", \"-\", \" \", \".\", \"org\", \"wiki\", \"wikipedia\", \"will\", \"image\", \"s\", \"t\", \"m\", \"ve\", \"u\", \"said\", \\\n",
        "                    \"code\", \"span\", \"container\", \"imgur\", \"html\", \"jpg\", \"png\", \"jpeg\", \"nofollow\", \"quot\",  \"comment\", \\\n",
        "                    \"site\", \"SE\", \"tags\", \"comments\", \"moderators\", \"answers\", \"posts\", \"stackoverflow\", \"amp\", \"strike\", \\\n",
        "                    \"chat\", \"edit\", \"alt\", \"link\", \"exchange\", \"help\", \"votes\", \"noreferrer\", \"closed\", \"png\", \"h1\", \"new\", \\\n",
        "                    \"stackexchange\", \"class\",\"users\",\"questions\", \"topic\", \"meta\", \"stack\", \"href\", \"tag\", \"p\", \"em\", \"rel\", \\\n",
        "                    \"li\", \"user\", \"answer\", \"title\", \"h3\", \"moderator\", \"post\", \"vote\", \"blockquote\", \"strong\",\"tagged\", \\\n",
        "                    \"question\", \"img\", \"page\", '\"', \"\\n\"] + list(STOPWORDS)\n",
        "        \n",
        "    def process(self, data):\n",
        "        # Lowercase\n",
        "        data = data.lower()\n",
        "        data = re.sub(' +', ' ', data)\n",
        "        data = data.translate(str.maketrans('', '', string.punctuation + '\"'))\n",
        "        doc = self._nlp(data)\n",
        "\n",
        "        # Tokenization and lemmatization \n",
        "        lemma_list = []\n",
        "        for token in doc:\n",
        "            lemma_list.append(token.lemma_)\n",
        "\n",
        "        # Filter the stopword\n",
        "        filtered_sentence = [] \n",
        "        for word in lemma_list:\n",
        "            lexeme = self._nlp.vocab[word]\n",
        "            if lexeme.is_stop == False and word not in self._stop_words:\n",
        "                filtered_sentence.append(word) \n",
        "\n",
        "        # Remove punctuation\n",
        "        for word in filtered_sentence:\n",
        "            if word in self._punctuations:\n",
        "                filtered_sentence.remove(word)\n",
        "        \n",
        "        return \" \".join(filtered_sentence)"
      ],
      "metadata": {
        "id": "Al_pd6UQILED"
      },
      "execution_count": null,
      "outputs": []
    },
    {
      "cell_type": "code",
      "source": [
        "dataPreprocessing = DataPreprocessing()"
      ],
      "metadata": {
        "id": "EfCfmYT7JwEM"
      },
      "execution_count": null,
      "outputs": []
    },
    {
      "cell_type": "code",
      "source": [
        "num_rows_per_cat = 1000\n",
        "ISOT_res_true = ISOT_dataset['text'][ISOT_dataset[\"label\"] == 1][0:num_rows_per_cat].apply(dataPreprocessing.process)\n",
        "ISOT_res_fake = ISOT_dataset['text'][ISOT_dataset[\"label\"] == 0][0:num_rows_per_cat].apply(dataPreprocessing.process)"
      ],
      "metadata": {
        "id": "tdUJmvvwIMfW"
      },
      "execution_count": null,
      "outputs": []
    },
    {
      "cell_type": "code",
      "source": [
        "if not os.path.isdir(os.getcwd() + \"/TextGAN-PyTorch/dataset\") : os.mkdir(os.getcwd() + \"/TextGAN-PyTorch/dataset\")\n",
        "if not os.path.isdir(os.getcwd() + \"/TextGAN-PyTorch/dataset/testdata\") : os.mkdir(os.getcwd() + \"/TextGAN-PyTorch/dataset/testdata\")"
      ],
      "metadata": {
        "id": "1tMwGSzwMSZM"
      },
      "execution_count": null,
      "outputs": []
    },
    {
      "cell_type": "code",
      "source": [
        "with open(os.getcwd() + \"/TextGAN-PyTorch/dataset/docs_cat1.txt\", \"w\") as output:\n",
        "    output.write(\".\\n\".join(doc for doc in ISOT_res_true[:int(num_rows_per_cat*0.7)]))\n",
        "  \n",
        "with open(os.getcwd() + \"/TextGAN-PyTorch/dataset/docs_cat0.txt\", \"w\") as output:\n",
        "    output.write(\".\\n\".join(doc for doc in ISOT_res_fake[:int(num_rows_per_cat*0.7)]))\n",
        "\n",
        "with open(os.getcwd() + \"/TextGAN-PyTorch/dataset/testdata/docs_cat1_test.txt\", \"w\") as output:\n",
        "    output.write(\".\\n\".join(doc for doc in ISOT_res_true[int(num_rows_per_cat*0.7):]))\n",
        "  \n",
        "with open(os.getcwd() + \"/TextGAN-PyTorch/dataset/testdata/docs_cat0_test.txt\", \"w\") as output:\n",
        "    output.write(\".\\n\".join(doc for doc in ISOT_res_fake[int(num_rows_per_cat*0.7):]))\n",
        "\n",
        "with open(os.getcwd() + \"/TextGAN-PyTorch/dataset/docs.txt\", \"w\") as output:\n",
        "    all_data_train = (\".\\n\".join(doc for doc in ISOT_res_fake[:int(num_rows_per_cat*0.7)])\n",
        "                + \".\\n\".join(doc for doc in ISOT_res_true[:int(num_rows_per_cat*0.7)]))\n",
        "    output.write(all_data_train)\n",
        "\n",
        "with open(os.getcwd() + \"/TextGAN-PyTorch/dataset/testdata/docs_test.txt\", \"w\") as output:\n",
        "    all_data_test = (\".\\n\".join(doc for doc in ISOT_res_fake[int(num_rows_per_cat*0.7):])\n",
        "                + \".\\n\".join(doc for doc in ISOT_res_true[int(num_rows_per_cat*0.7):]))\n",
        "    output.write(all_data_test)"
      ],
      "metadata": {
        "id": "D8273PvFJ3As"
      },
      "execution_count": null,
      "outputs": []
    },
    {
      "cell_type": "code",
      "source": [
        "liar_train = pd.read_table(os.getcwd() +\"/data/LIAR/train.tsv\", names = ['id',\t'label'\t,'statement',\t'subject',\t'speaker', \t'job', \t'state',\t'party',\t'barely_true_c',\t'false_c',\t'half_true_c',\t'mostly_true_c',\t'pants_on_fire_c',\t'venue'])\n",
        "liar_test = pd.read_table(os.getcwd() +\"/data/LIAR/test.tsv\", names = ['id',\t'label'\t,'statement',\t'subject',\t'speaker', \t'job', \t'state',\t'party',\t'barely_true_c',\t'false_c',\t'half_true_c',\t'mostly_true_c',\t'pants_on_fire_c',\t'venue'])\n",
        "liar_valid = pd.read_table(os.getcwd() +\"/data/LIAR/valid.tsv\", names = ['id',\t'label'\t,'statement',\t'subject',\t'speaker', \t'job', \t'state',\t'party',\t'barely_true_c',\t'false_c',\t'half_true_c',\t'mostly_true_c',\t'pants_on_fire_c',\t'venue'])"
      ],
      "metadata": {
        "id": "1bYmNm0a3Vzl"
      },
      "execution_count": null,
      "outputs": []
    },
    {
      "cell_type": "code",
      "source": [
        "liar_train.head()"
      ],
      "metadata": {
        "colab": {
          "base_uri": "https://localhost:8080/",
          "height": 652
        },
        "id": "Cwz7r03w4zyP",
        "outputId": "55d048b3-7ac4-4f1b-a3b0-91d161b853c2"
      },
      "execution_count": null,
      "outputs": [
        {
          "output_type": "execute_result",
          "data": {
            "text/plain": [
              "           id        label                                          statement  \\\n",
              "0   2635.json        false  Says the Annies List political group supports ...   \n",
              "1  10540.json    half-true  When did the decline of coal start? It started...   \n",
              "2    324.json  mostly-true  Hillary Clinton agrees with John McCain \"by vo...   \n",
              "3   1123.json        false  Health care reform legislation is likely to ma...   \n",
              "4   9028.json    half-true  The economic turnaround started at the end of ...   \n",
              "\n",
              "                              subject         speaker                   job  \\\n",
              "0                            abortion    dwayne-bohac  State representative   \n",
              "1  energy,history,job-accomplishments  scott-surovell        State delegate   \n",
              "2                      foreign-policy    barack-obama             President   \n",
              "3                         health-care    blog-posting                   NaN   \n",
              "4                        economy,jobs   charlie-crist                   NaN   \n",
              "\n",
              "      state       party  barely_true_c  false_c  half_true_c  mostly_true_c  \\\n",
              "0     Texas  republican            0.0      1.0          0.0            0.0   \n",
              "1  Virginia    democrat            0.0      0.0          1.0            1.0   \n",
              "2  Illinois    democrat           70.0     71.0        160.0          163.0   \n",
              "3       NaN        none            7.0     19.0          3.0            5.0   \n",
              "4   Florida    democrat           15.0      9.0         20.0           19.0   \n",
              "\n",
              "   pants_on_fire_c                venue  \n",
              "0              0.0             a mailer  \n",
              "1              0.0      a floor speech.  \n",
              "2              9.0               Denver  \n",
              "3             44.0       a news release  \n",
              "4              2.0  an interview on CNN  "
            ],
            "text/html": [
              "\n",
              "  <div id=\"df-ef8ec505-26b0-411d-a04d-51d34e0e9e01\">\n",
              "    <div class=\"colab-df-container\">\n",
              "      <div>\n",
              "<style scoped>\n",
              "    .dataframe tbody tr th:only-of-type {\n",
              "        vertical-align: middle;\n",
              "    }\n",
              "\n",
              "    .dataframe tbody tr th {\n",
              "        vertical-align: top;\n",
              "    }\n",
              "\n",
              "    .dataframe thead th {\n",
              "        text-align: right;\n",
              "    }\n",
              "</style>\n",
              "<table border=\"1\" class=\"dataframe\">\n",
              "  <thead>\n",
              "    <tr style=\"text-align: right;\">\n",
              "      <th></th>\n",
              "      <th>id</th>\n",
              "      <th>label</th>\n",
              "      <th>statement</th>\n",
              "      <th>subject</th>\n",
              "      <th>speaker</th>\n",
              "      <th>job</th>\n",
              "      <th>state</th>\n",
              "      <th>party</th>\n",
              "      <th>barely_true_c</th>\n",
              "      <th>false_c</th>\n",
              "      <th>half_true_c</th>\n",
              "      <th>mostly_true_c</th>\n",
              "      <th>pants_on_fire_c</th>\n",
              "      <th>venue</th>\n",
              "    </tr>\n",
              "  </thead>\n",
              "  <tbody>\n",
              "    <tr>\n",
              "      <th>0</th>\n",
              "      <td>2635.json</td>\n",
              "      <td>false</td>\n",
              "      <td>Says the Annies List political group supports ...</td>\n",
              "      <td>abortion</td>\n",
              "      <td>dwayne-bohac</td>\n",
              "      <td>State representative</td>\n",
              "      <td>Texas</td>\n",
              "      <td>republican</td>\n",
              "      <td>0.0</td>\n",
              "      <td>1.0</td>\n",
              "      <td>0.0</td>\n",
              "      <td>0.0</td>\n",
              "      <td>0.0</td>\n",
              "      <td>a mailer</td>\n",
              "    </tr>\n",
              "    <tr>\n",
              "      <th>1</th>\n",
              "      <td>10540.json</td>\n",
              "      <td>half-true</td>\n",
              "      <td>When did the decline of coal start? It started...</td>\n",
              "      <td>energy,history,job-accomplishments</td>\n",
              "      <td>scott-surovell</td>\n",
              "      <td>State delegate</td>\n",
              "      <td>Virginia</td>\n",
              "      <td>democrat</td>\n",
              "      <td>0.0</td>\n",
              "      <td>0.0</td>\n",
              "      <td>1.0</td>\n",
              "      <td>1.0</td>\n",
              "      <td>0.0</td>\n",
              "      <td>a floor speech.</td>\n",
              "    </tr>\n",
              "    <tr>\n",
              "      <th>2</th>\n",
              "      <td>324.json</td>\n",
              "      <td>mostly-true</td>\n",
              "      <td>Hillary Clinton agrees with John McCain \"by vo...</td>\n",
              "      <td>foreign-policy</td>\n",
              "      <td>barack-obama</td>\n",
              "      <td>President</td>\n",
              "      <td>Illinois</td>\n",
              "      <td>democrat</td>\n",
              "      <td>70.0</td>\n",
              "      <td>71.0</td>\n",
              "      <td>160.0</td>\n",
              "      <td>163.0</td>\n",
              "      <td>9.0</td>\n",
              "      <td>Denver</td>\n",
              "    </tr>\n",
              "    <tr>\n",
              "      <th>3</th>\n",
              "      <td>1123.json</td>\n",
              "      <td>false</td>\n",
              "      <td>Health care reform legislation is likely to ma...</td>\n",
              "      <td>health-care</td>\n",
              "      <td>blog-posting</td>\n",
              "      <td>NaN</td>\n",
              "      <td>NaN</td>\n",
              "      <td>none</td>\n",
              "      <td>7.0</td>\n",
              "      <td>19.0</td>\n",
              "      <td>3.0</td>\n",
              "      <td>5.0</td>\n",
              "      <td>44.0</td>\n",
              "      <td>a news release</td>\n",
              "    </tr>\n",
              "    <tr>\n",
              "      <th>4</th>\n",
              "      <td>9028.json</td>\n",
              "      <td>half-true</td>\n",
              "      <td>The economic turnaround started at the end of ...</td>\n",
              "      <td>economy,jobs</td>\n",
              "      <td>charlie-crist</td>\n",
              "      <td>NaN</td>\n",
              "      <td>Florida</td>\n",
              "      <td>democrat</td>\n",
              "      <td>15.0</td>\n",
              "      <td>9.0</td>\n",
              "      <td>20.0</td>\n",
              "      <td>19.0</td>\n",
              "      <td>2.0</td>\n",
              "      <td>an interview on CNN</td>\n",
              "    </tr>\n",
              "  </tbody>\n",
              "</table>\n",
              "</div>\n",
              "      <button class=\"colab-df-convert\" onclick=\"convertToInteractive('df-ef8ec505-26b0-411d-a04d-51d34e0e9e01')\"\n",
              "              title=\"Convert this dataframe to an interactive table.\"\n",
              "              style=\"display:none;\">\n",
              "        \n",
              "  <svg xmlns=\"http://www.w3.org/2000/svg\" height=\"24px\"viewBox=\"0 0 24 24\"\n",
              "       width=\"24px\">\n",
              "    <path d=\"M0 0h24v24H0V0z\" fill=\"none\"/>\n",
              "    <path d=\"M18.56 5.44l.94 2.06.94-2.06 2.06-.94-2.06-.94-.94-2.06-.94 2.06-2.06.94zm-11 1L8.5 8.5l.94-2.06 2.06-.94-2.06-.94L8.5 2.5l-.94 2.06-2.06.94zm10 10l.94 2.06.94-2.06 2.06-.94-2.06-.94-.94-2.06-.94 2.06-2.06.94z\"/><path d=\"M17.41 7.96l-1.37-1.37c-.4-.4-.92-.59-1.43-.59-.52 0-1.04.2-1.43.59L10.3 9.45l-7.72 7.72c-.78.78-.78 2.05 0 2.83L4 21.41c.39.39.9.59 1.41.59.51 0 1.02-.2 1.41-.59l7.78-7.78 2.81-2.81c.8-.78.8-2.07 0-2.86zM5.41 20L4 18.59l7.72-7.72 1.47 1.35L5.41 20z\"/>\n",
              "  </svg>\n",
              "      </button>\n",
              "      \n",
              "  <style>\n",
              "    .colab-df-container {\n",
              "      display:flex;\n",
              "      flex-wrap:wrap;\n",
              "      gap: 12px;\n",
              "    }\n",
              "\n",
              "    .colab-df-convert {\n",
              "      background-color: #E8F0FE;\n",
              "      border: none;\n",
              "      border-radius: 50%;\n",
              "      cursor: pointer;\n",
              "      display: none;\n",
              "      fill: #1967D2;\n",
              "      height: 32px;\n",
              "      padding: 0 0 0 0;\n",
              "      width: 32px;\n",
              "    }\n",
              "\n",
              "    .colab-df-convert:hover {\n",
              "      background-color: #E2EBFA;\n",
              "      box-shadow: 0px 1px 2px rgba(60, 64, 67, 0.3), 0px 1px 3px 1px rgba(60, 64, 67, 0.15);\n",
              "      fill: #174EA6;\n",
              "    }\n",
              "\n",
              "    [theme=dark] .colab-df-convert {\n",
              "      background-color: #3B4455;\n",
              "      fill: #D2E3FC;\n",
              "    }\n",
              "\n",
              "    [theme=dark] .colab-df-convert:hover {\n",
              "      background-color: #434B5C;\n",
              "      box-shadow: 0px 1px 3px 1px rgba(0, 0, 0, 0.15);\n",
              "      filter: drop-shadow(0px 1px 2px rgba(0, 0, 0, 0.3));\n",
              "      fill: #FFFFFF;\n",
              "    }\n",
              "  </style>\n",
              "\n",
              "      <script>\n",
              "        const buttonEl =\n",
              "          document.querySelector('#df-ef8ec505-26b0-411d-a04d-51d34e0e9e01 button.colab-df-convert');\n",
              "        buttonEl.style.display =\n",
              "          google.colab.kernel.accessAllowed ? 'block' : 'none';\n",
              "\n",
              "        async function convertToInteractive(key) {\n",
              "          const element = document.querySelector('#df-ef8ec505-26b0-411d-a04d-51d34e0e9e01');\n",
              "          const dataTable =\n",
              "            await google.colab.kernel.invokeFunction('convertToInteractive',\n",
              "                                                     [key], {});\n",
              "          if (!dataTable) return;\n",
              "\n",
              "          const docLinkHtml = 'Like what you see? Visit the ' +\n",
              "            '<a target=\"_blank\" href=https://colab.research.google.com/notebooks/data_table.ipynb>data table notebook</a>'\n",
              "            + ' to learn more about interactive tables.';\n",
              "          element.innerHTML = '';\n",
              "          dataTable['output_type'] = 'display_data';\n",
              "          await google.colab.output.renderOutput(dataTable, element);\n",
              "          const docLink = document.createElement('div');\n",
              "          docLink.innerHTML = docLinkHtml;\n",
              "          element.appendChild(docLink);\n",
              "        }\n",
              "      </script>\n",
              "    </div>\n",
              "  </div>\n",
              "  "
            ]
          },
          "metadata": {},
          "execution_count": 12
        }
      ]
    },
    {
      "cell_type": "code",
      "source": [
        "labels = np.unique(liar_train.label).tolist()\n",
        "labels"
      ],
      "metadata": {
        "colab": {
          "base_uri": "https://localhost:8080/"
        },
        "id": "kStvZLbV44jS",
        "outputId": "98126745-7770-4d8c-a3e2-ce9081cc74bc"
      },
      "execution_count": null,
      "outputs": [
        {
          "output_type": "execute_result",
          "data": {
            "text/plain": [
              "['barely-true', 'false', 'half-true', 'mostly-true', 'pants-fire', 'true']"
            ]
          },
          "metadata": {},
          "execution_count": 24
        }
      ]
    },
    {
      "cell_type": "code",
      "source": [
        "def write_data(train_data, test_data, count):  \n",
        "  with open(os.getcwd() + f\"/TextGAN-PyTorch/dataset/docs_cat{count}.txt\", \"w\") as output:\n",
        "      output.write(train_data)\n",
        "  with open(os.getcwd() + f\"/TextGAN-PyTorch/dataset/testdata/docs_cat{count}_test.txt\", \"w\") as output:\n",
        "      output.write(test_data)"
      ],
      "metadata": {
        "id": "y4V-P4zu8pJi"
      },
      "execution_count": null,
      "outputs": []
    },
    {
      "cell_type": "code",
      "source": [
        "with open(os.getcwd() + f\"/TextGAN-PyTorch/dataset/docs.txt\", \"w\") as output:\n",
        "    output.write(\".\\n\".join(statement for statement in liar_train.statement.tolist()).replace(\"'\", \"\"))\n",
        "\n",
        "with open(os.getcwd() + f\"/TextGAN-PyTorch/dataset/testdata/docs_test.txt\", \"w\") as output:\n",
        "    output.write(\".\\n\".join(statement for statement in liar_test.statement.tolist()).replace(\"'\", \"\"))\n"
      ],
      "metadata": {
        "id": "b2Maz36yBk3l"
      },
      "execution_count": null,
      "outputs": []
    },
    {
      "cell_type": "code",
      "source": [
        "for count, label in enumerate(labels):\n",
        "  train_text_data_for_label = \".\\n\".join(statement for statement in liar_train[liar_train[\"label\"] == label].statement.tolist()).replace(\"'\", \"\")\n",
        "  test_text_data_for_label = \".\\n\".join(statement for statement in liar_test[liar_test[\"label\"] == label].statement.tolist()).replace(\"'\", \"\")\n",
        "  write_data(train_text_data_for_label, test_text_data_for_label, count)"
      ],
      "metadata": {
        "id": "CamSl8ln77ip"
      },
      "execution_count": null,
      "outputs": []
    },
    {
      "cell_type": "code",
      "source": [
        "!sudo apt-get install libboost-all-dev"
      ],
      "metadata": {
        "colab": {
          "base_uri": "https://localhost:8080/"
        },
        "id": "SwGDjzgCOLYF",
        "outputId": "00ded6d4-3f45-4a90-a90e-adca36901635"
      },
      "execution_count": 8,
      "outputs": [
        {
          "output_type": "stream",
          "name": "stdout",
          "text": [
            "Reading package lists... Done\n",
            "Building dependency tree       \n",
            "Reading state information... Done\n",
            "libboost-all-dev is already the newest version (1.65.1.0ubuntu1).\n",
            "The following package was automatically installed and is no longer required:\n",
            "  libnvidia-common-460\n",
            "Use 'sudo apt autoremove' to remove it.\n",
            "0 upgraded, 0 newly installed, 0 to remove and 21 not upgraded.\n"
          ]
        }
      ]
    },
    {
      "cell_type": "code",
      "source": [
        "!pip install kenlm"
      ],
      "metadata": {
        "colab": {
          "base_uri": "https://localhost:8080/"
        },
        "id": "dvOH8CRTNneO",
        "outputId": "ef6e1c15-a1f7-4cbe-81f8-018db0f4cdf2"
      },
      "execution_count": 1,
      "outputs": [
        {
          "output_type": "stream",
          "name": "stdout",
          "text": [
            "Looking in indexes: https://pypi.org/simple, https://us-python.pkg.dev/colab-wheels/public/simple/\n",
            "Collecting kenlm\n",
            "  Downloading kenlm-0.1.tar.gz (424 kB)\n",
            "\u001b[2K     \u001b[90m━━━━━━━━━━━━━━━━━━━━━━━━━━━━━━━━━━━━━━\u001b[0m \u001b[32m425.0/425.0 KB\u001b[0m \u001b[31m17.8 MB/s\u001b[0m eta \u001b[36m0:00:00\u001b[0m\n",
            "\u001b[?25h  Preparing metadata (setup.py) ... \u001b[?25l\u001b[?25hdone\n",
            "Building wheels for collected packages: kenlm\n",
            "  Building wheel for kenlm (setup.py) ... \u001b[?25l\u001b[?25hdone\n",
            "  Created wheel for kenlm: filename=kenlm-0.1-cp38-cp38-linux_x86_64.whl size=2395691 sha256=94986fd1dbe471d1c38e66497734b76ceb20fa872fc49cdc76227786fb1c9225\n",
            "  Stored in directory: /root/.cache/pip/wheels/d4/3c/44/389ed64995f0e7382ab7c38ef13e57fb1a5e5e111350ce6807\n",
            "Successfully built kenlm\n",
            "Installing collected packages: kenlm\n",
            "Successfully installed kenlm-0.1\n"
          ]
        }
      ]
    },
    {
      "cell_type": "code",
      "source": [
        "!pip install wandb"
      ],
      "metadata": {
        "colab": {
          "base_uri": "https://localhost:8080/"
        },
        "id": "IMN3I4dGgM3U",
        "outputId": "3b1cd27d-d769-4f04-e809-08b4a5dac6d0"
      },
      "execution_count": 4,
      "outputs": [
        {
          "output_type": "stream",
          "name": "stdout",
          "text": [
            "Looking in indexes: https://pypi.org/simple, https://us-python.pkg.dev/colab-wheels/public/simple/\n",
            "Collecting wandb\n",
            "  Downloading wandb-0.13.9-py2.py3-none-any.whl (2.0 MB)\n",
            "\u001b[2K     \u001b[90m━━━━━━━━━━━━━━━━━━━━━━━━━━━━━━━━━━━━━━━━\u001b[0m \u001b[32m2.0/2.0 MB\u001b[0m \u001b[31m21.0 MB/s\u001b[0m eta \u001b[36m0:00:00\u001b[0m\n",
            "\u001b[?25hCollecting sentry-sdk>=1.0.0\n",
            "  Downloading sentry_sdk-1.13.0-py2.py3-none-any.whl (177 kB)\n",
            "\u001b[2K     \u001b[90m━━━━━━━━━━━━━━━━━━━━━━━━━━━━━━━━━━━━━━\u001b[0m \u001b[32m177.4/177.4 KB\u001b[0m \u001b[31m18.2 MB/s\u001b[0m eta \u001b[36m0:00:00\u001b[0m\n",
            "\u001b[?25hCollecting pathtools\n",
            "  Downloading pathtools-0.1.2.tar.gz (11 kB)\n",
            "  Preparing metadata (setup.py) ... \u001b[?25l\u001b[?25hdone\n",
            "Collecting GitPython>=1.0.0\n",
            "  Downloading GitPython-3.1.30-py3-none-any.whl (184 kB)\n",
            "\u001b[2K     \u001b[90m━━━━━━━━━━━━━━━━━━━━━━━━━━━━━━━━━━━━━━\u001b[0m \u001b[32m184.0/184.0 KB\u001b[0m \u001b[31m21.0 MB/s\u001b[0m eta \u001b[36m0:00:00\u001b[0m\n",
            "\u001b[?25hRequirement already satisfied: psutil>=5.0.0 in /usr/local/lib/python3.8/dist-packages (from wandb) (5.4.8)\n",
            "Requirement already satisfied: Click!=8.0.0,>=7.0 in /usr/local/lib/python3.8/dist-packages (from wandb) (7.1.2)\n",
            "Requirement already satisfied: requests<3,>=2.0.0 in /usr/local/lib/python3.8/dist-packages (from wandb) (2.25.1)\n",
            "Collecting docker-pycreds>=0.4.0\n",
            "  Downloading docker_pycreds-0.4.0-py2.py3-none-any.whl (9.0 kB)\n",
            "Requirement already satisfied: PyYAML in /usr/local/lib/python3.8/dist-packages (from wandb) (6.0)\n",
            "Requirement already satisfied: typing-extensions in /usr/local/lib/python3.8/dist-packages (from wandb) (4.4.0)\n",
            "Requirement already satisfied: protobuf!=4.21.0,<5,>=3.12.0 in /usr/local/lib/python3.8/dist-packages (from wandb) (3.19.6)\n",
            "Requirement already satisfied: setuptools in /usr/local/lib/python3.8/dist-packages (from wandb) (57.4.0)\n",
            "Requirement already satisfied: appdirs>=1.4.3 in /usr/local/lib/python3.8/dist-packages (from wandb) (1.4.4)\n",
            "Collecting setproctitle\n",
            "  Downloading setproctitle-1.3.2-cp38-cp38-manylinux_2_5_x86_64.manylinux1_x86_64.manylinux_2_17_x86_64.manylinux2014_x86_64.whl (31 kB)\n",
            "Requirement already satisfied: six>=1.4.0 in /usr/local/lib/python3.8/dist-packages (from docker-pycreds>=0.4.0->wandb) (1.15.0)\n",
            "Collecting gitdb<5,>=4.0.1\n",
            "  Downloading gitdb-4.0.10-py3-none-any.whl (62 kB)\n",
            "\u001b[2K     \u001b[90m━━━━━━━━━━━━━━━━━━━━━━━━━━━━━━━━━━━━━━━━\u001b[0m \u001b[32m62.7/62.7 KB\u001b[0m \u001b[31m7.6 MB/s\u001b[0m eta \u001b[36m0:00:00\u001b[0m\n",
            "\u001b[?25hRequirement already satisfied: idna<3,>=2.5 in /usr/local/lib/python3.8/dist-packages (from requests<3,>=2.0.0->wandb) (2.10)\n",
            "Requirement already satisfied: chardet<5,>=3.0.2 in /usr/local/lib/python3.8/dist-packages (from requests<3,>=2.0.0->wandb) (4.0.0)\n",
            "Requirement already satisfied: urllib3<1.27,>=1.21.1 in /usr/local/lib/python3.8/dist-packages (from requests<3,>=2.0.0->wandb) (1.24.3)\n",
            "Requirement already satisfied: certifi>=2017.4.17 in /usr/local/lib/python3.8/dist-packages (from requests<3,>=2.0.0->wandb) (2022.12.7)\n",
            "Collecting urllib3<1.27,>=1.21.1\n",
            "  Downloading urllib3-1.26.14-py2.py3-none-any.whl (140 kB)\n",
            "\u001b[2K     \u001b[90m━━━━━━━━━━━━━━━━━━━━━━━━━━━━━━━━━━━━━━\u001b[0m \u001b[32m140.6/140.6 KB\u001b[0m \u001b[31m17.6 MB/s\u001b[0m eta \u001b[36m0:00:00\u001b[0m\n",
            "\u001b[?25hCollecting smmap<6,>=3.0.1\n",
            "  Downloading smmap-5.0.0-py3-none-any.whl (24 kB)\n",
            "Building wheels for collected packages: pathtools\n",
            "  Building wheel for pathtools (setup.py) ... \u001b[?25l\u001b[?25hdone\n",
            "  Created wheel for pathtools: filename=pathtools-0.1.2-py3-none-any.whl size=8806 sha256=1c7a28ad375f0b24bfc904e7cd294d9e8f0180e9d0ae0084bf8950a25d92cfd5\n",
            "  Stored in directory: /root/.cache/pip/wheels/4c/8e/7e/72fbc243e1aeecae64a96875432e70d4e92f3d2d18123be004\n",
            "Successfully built pathtools\n",
            "Installing collected packages: pathtools, urllib3, smmap, setproctitle, docker-pycreds, sentry-sdk, gitdb, GitPython, wandb\n",
            "  Attempting uninstall: urllib3\n",
            "    Found existing installation: urllib3 1.24.3\n",
            "    Uninstalling urllib3-1.24.3:\n",
            "      Successfully uninstalled urllib3-1.24.3\n",
            "Successfully installed GitPython-3.1.30 docker-pycreds-0.4.0 gitdb-4.0.10 pathtools-0.1.2 sentry-sdk-1.13.0 setproctitle-1.3.2 smmap-5.0.0 urllib3-1.26.14 wandb-0.13.9\n"
          ]
        }
      ]
    },
    {
      "cell_type": "code",
      "source": [
        "import wandb\n",
        "wandb.init()"
      ],
      "metadata": {
        "colab": {
          "base_uri": "https://localhost:8080/",
          "height": 648
        },
        "id": "KoaeLybFgRep",
        "outputId": "e03b2931-256d-4c07-af82-e5eac1259925"
      },
      "execution_count": 5,
      "outputs": [
        {
          "output_type": "stream",
          "name": "stderr",
          "text": [
            "ERROR:wandb.jupyter:Failed to detect the name of this notebook, you can set it manually with the WANDB_NOTEBOOK_NAME environment variable to enable code saving.\n"
          ]
        },
        {
          "output_type": "display_data",
          "data": {
            "text/plain": [
              "<IPython.core.display.Javascript object>"
            ],
            "application/javascript": [
              "\n",
              "        window._wandbApiKey = new Promise((resolve, reject) => {\n",
              "            function loadScript(url) {\n",
              "            return new Promise(function(resolve, reject) {\n",
              "                let newScript = document.createElement(\"script\");\n",
              "                newScript.onerror = reject;\n",
              "                newScript.onload = resolve;\n",
              "                document.body.appendChild(newScript);\n",
              "                newScript.src = url;\n",
              "            });\n",
              "            }\n",
              "            loadScript(\"https://cdn.jsdelivr.net/npm/postmate/build/postmate.min.js\").then(() => {\n",
              "            const iframe = document.createElement('iframe')\n",
              "            iframe.style.cssText = \"width:0;height:0;border:none\"\n",
              "            document.body.appendChild(iframe)\n",
              "            const handshake = new Postmate({\n",
              "                container: iframe,\n",
              "                url: 'https://wandb.ai/authorize'\n",
              "            });\n",
              "            const timeout = setTimeout(() => reject(\"Couldn't auto authenticate\"), 5000)\n",
              "            handshake.then(function(child) {\n",
              "                child.on('authorize', data => {\n",
              "                    clearTimeout(timeout)\n",
              "                    resolve(data)\n",
              "                });\n",
              "            });\n",
              "            })\n",
              "        });\n",
              "    "
            ]
          },
          "metadata": {}
        },
        {
          "output_type": "stream",
          "name": "stderr",
          "text": [
            "\u001b[34m\u001b[1mwandb\u001b[0m: Logging into wandb.ai. (Learn how to deploy a W&B server locally: https://wandb.me/wandb-server)\n",
            "\u001b[34m\u001b[1mwandb\u001b[0m: You can find your API key in your browser here: https://wandb.ai/authorize\n",
            "wandb: Paste an API key from your profile and hit enter, or press ctrl+c to quit: "
          ]
        },
        {
          "name": "stdout",
          "output_type": "stream",
          "text": [
            "··········\n"
          ]
        },
        {
          "output_type": "stream",
          "name": "stderr",
          "text": [
            "\u001b[34m\u001b[1mwandb\u001b[0m: Appending key for api.wandb.ai to your netrc file: /root/.netrc\n"
          ]
        },
        {
          "output_type": "display_data",
          "data": {
            "text/plain": [
              "<IPython.core.display.HTML object>"
            ],
            "text/html": [
              "Tracking run with wandb version 0.13.9"
            ]
          },
          "metadata": {}
        },
        {
          "output_type": "display_data",
          "data": {
            "text/plain": [
              "<IPython.core.display.HTML object>"
            ],
            "text/html": [
              "Run data is saved locally in <code>/content/wandb/run-20230115_173804-h2lm6mqs</code>"
            ]
          },
          "metadata": {}
        },
        {
          "output_type": "display_data",
          "data": {
            "text/plain": [
              "<IPython.core.display.HTML object>"
            ],
            "text/html": [
              "Syncing run <strong><a href=\"https://wandb.ai/nlp344/uncategorized/runs/h2lm6mqs\" target=\"_blank\">magic-paper-1</a></strong> to <a href=\"https://wandb.ai/nlp344/uncategorized\" target=\"_blank\">Weights & Biases</a> (<a href=\"https://wandb.me/run\" target=\"_blank\">docs</a>)<br/>"
            ]
          },
          "metadata": {}
        },
        {
          "output_type": "display_data",
          "data": {
            "text/plain": [
              "<IPython.core.display.HTML object>"
            ],
            "text/html": [
              " View project at <a href=\"https://wandb.ai/nlp344/uncategorized\" target=\"_blank\">https://wandb.ai/nlp344/uncategorized</a>"
            ]
          },
          "metadata": {}
        },
        {
          "output_type": "display_data",
          "data": {
            "text/plain": [
              "<IPython.core.display.HTML object>"
            ],
            "text/html": [
              " View run at <a href=\"https://wandb.ai/nlp344/uncategorized/runs/h2lm6mqs\" target=\"_blank\">https://wandb.ai/nlp344/uncategorized/runs/h2lm6mqs</a>"
            ]
          },
          "metadata": {}
        },
        {
          "output_type": "execute_result",
          "data": {
            "text/html": [
              "<button onClick=\"this.nextSibling.style.display='block';this.style.display='none';\">Display W&B run</button><iframe src=\"https://wandb.ai/nlp344/uncategorized/runs/h2lm6mqs?jupyter=true\" style=\"border:none;width:100%;height:420px;display:none;\"></iframe>"
            ],
            "text/plain": [
              "<wandb.sdk.wandb_run.Run at 0x7f741ee38fa0>"
            ]
          },
          "metadata": {},
          "execution_count": 5
        }
      ]
    },
    {
      "cell_type": "code",
      "source": [
        "!mkdir /content/local/\n",
        "!rsync -av --progress /content/drive/MyDrive/PROJECTS/Fake_News-Sentimental_Scrapers/ /content/local/ --exclude TextGAN-PyTorch/save "
      ],
      "metadata": {
        "colab": {
          "base_uri": "https://localhost:8080/"
        },
        "id": "eG4yP9vSTI7a",
        "outputId": "65cce811-6365-4ee7-b87d-25f3fb2c79ce"
      },
      "execution_count": 11,
      "outputs": [
        {
          "output_type": "stream",
          "name": "stdout",
          "text": [
            "mkdir: cannot create directory ‘/content/local/’: File exists\n",
            "sending incremental file list\n",
            "TextGAN-PyTorch/savefig/\n",
            "TextGAN-PyTorch/savefig/SeqGAN.png\n",
            "         11,196 100%    0.00kB/s    0:00:00 (xfr#1, to-chk=44/273)\n",
            "TextGAN-PyTorch/utils/\n",
            "TextGAN-PyTorch/utils/cat_data_loader.py\n",
            "          6,409 100%    6.11MB/s    0:00:00 (xfr#2, to-chk=43/273)\n",
            "TextGAN-PyTorch/utils/data_loader.py\n",
            "          4,339 100%    4.14MB/s    0:00:00 (xfr#3, to-chk=42/273)\n",
            "TextGAN-PyTorch/utils/data_utils.py\n",
            "          6,818 100%    2.17MB/s    0:00:00 (xfr#4, to-chk=41/273)\n",
            "TextGAN-PyTorch/utils/gan_loss.py\n",
            "          6,192 100%    1.18MB/s    0:00:00 (xfr#5, to-chk=40/273)\n",
            "TextGAN-PyTorch/utils/helpers.py\n",
            "          5,887 100%  958.17kB/s    0:00:00 (xfr#6, to-chk=39/273)\n",
            "TextGAN-PyTorch/utils/rollout.py\n",
            "          7,842 100%    1.25MB/s    0:00:00 (xfr#7, to-chk=38/273)\n",
            "TextGAN-PyTorch/utils/text_process.py\n",
            "         12,292 100%    1.67MB/s    0:00:00 (xfr#8, to-chk=37/273)\n",
            "TextGAN-PyTorch/utils/visualization.py\n",
            "          2,452 100%  299.32kB/s    0:00:00 (xfr#9, to-chk=36/273)\n",
            "TextGAN-PyTorch/utils/__pycache__/\n",
            "TextGAN-PyTorch/utils/__pycache__/cat_data_loader.cpython-38.pyc\n",
            "          6,682 100%  725.04kB/s    0:00:00 (xfr#10, to-chk=34/273)\n",
            "TextGAN-PyTorch/utils/__pycache__/data_loader.cpython-38.pyc\n",
            "          4,841 100%  429.78kB/s    0:00:00 (xfr#11, to-chk=33/273)\n",
            "TextGAN-PyTorch/utils/__pycache__/data_utils.cpython-38.pyc\n",
            "          4,778 100%  424.18kB/s    0:00:00 (xfr#12, to-chk=32/273)\n",
            "TextGAN-PyTorch/utils/__pycache__/gan_loss.cpython-38.pyc\n",
            "          4,224 100%  343.75kB/s    0:00:00 (xfr#13, to-chk=31/273)\n",
            "TextGAN-PyTorch/utils/__pycache__/helpers.cpython-38.pyc\n",
            "          4,793 100%  360.05kB/s    0:00:00 (xfr#14, to-chk=30/273)\n",
            "TextGAN-PyTorch/utils/__pycache__/rollout.cpython-38.pyc\n",
            "          5,196 100%  362.44kB/s    0:00:00 (xfr#15, to-chk=29/273)\n",
            "TextGAN-PyTorch/utils/__pycache__/text_process.cpython-38.pyc\n",
            "          9,038 100%  588.41kB/s    0:00:00 (xfr#16, to-chk=28/273)\n",
            "TextGAN-PyTorch/visual/\n",
            "TextGAN-PyTorch/visual/visual_human.py\n",
            "          2,458 100%  150.02kB/s    0:00:00 (xfr#17, to-chk=27/273)\n",
            "TextGAN-PyTorch/visual/visual_metric.py\n",
            "          1,971 100%  113.22kB/s    0:00:00 (xfr#18, to-chk=26/273)\n",
            "TextGAN-PyTorch/visual/visual_temp_appendix.py\n",
            "          2,492 100%  135.20kB/s    0:00:00 (xfr#19, to-chk=25/273)\n",
            "TextGAN-PyTorch/visual/visual_temp_compare.py\n",
            "          3,064 100%  166.23kB/s    0:00:00 (xfr#20, to-chk=24/273)\n",
            "data/\n",
            "data/.ipynb_checkpoints/\n",
            "data/FakeNews/\n",
            "data/FakeNews/test.csv.zip\n",
            "      9,872,852 100%  140.53MB/s    0:00:00 (xfr#21, to-chk=17/273)\n",
            "data/FakeNews/train.csv.zip\n",
            "     38,841,253 100%  134.70MB/s    0:00:00 (xfr#22, to-chk=16/273)\n",
            "data/FakeNews_Preprocessed/\n",
            "data/FakeNews_Preprocessed/data.csv\n",
            "     74,704,699 100%   89.28MB/s    0:00:00 (xfr#23, to-chk=15/273)\n",
            "data/ISOT/\n",
            "data/ISOT/Fake.csv.zip\n",
            "     23,982,555 100%   24.73MB/s    0:00:00 (xfr#24, to-chk=14/273)\n",
            "data/ISOT/True.csv.zip\n",
            "     18,993,378 100%   17.92MB/s    0:00:01 (xfr#25, to-chk=13/273)\n",
            "data/ISOT_Preprocessed/\n",
            "data/ISOT_Preprocessed/data.csv\n",
            "     96,198,396 100%  154.71MB/s    0:00:00 (xfr#26, to-chk=12/273)\n",
            "data/LIAR/\n",
            "data/LIAR/README\n",
            "          1,670 100%    2.75kB/s    0:00:00 (xfr#27, to-chk=11/273)\n",
            "data/LIAR/test.tsv\n",
            "        301,118 100%  492.56kB/s    0:00:00 (xfr#28, to-chk=10/273)\n",
            "data/LIAR/train.tsv\n",
            "      2,408,165 100%    3.78MB/s    0:00:00 (xfr#29, to-chk=9/273)\n",
            "data/LIAR/valid.tsv\n",
            "        301,556 100%  482.77kB/s    0:00:00 (xfr#30, to-chk=8/273)\n",
            "envs/\n",
            "envs/nlp_torch_transformers.yml\n",
            "          4,458 100%    7.13kB/s    0:00:00 (xfr#31, to-chk=7/273)\n",
            "preprocessing/\n",
            "preprocessing/preprocessing.ipynb\n",
            "          5,086 100%    8.12kB/s    0:00:00 (xfr#32, to-chk=6/273)\n",
            "processed_data_GAN/\n",
            "processed_data_GAN/test/\n",
            "processed_data_GAN/test/fake.txt\n",
            "         47,197 100%   44.06kB/s    0:00:01 (xfr#33, to-chk=3/273)\n",
            "processed_data_GAN/test/true.txt\n",
            "         47,089 100%   84.69kB/s    0:00:00 (xfr#34, to-chk=2/273)\n",
            "processed_data_GAN/train/\n",
            "processed_data_GAN/train/fake.txt\n",
            "        101,309 100%  102.95kB/s    0:00:00 (xfr#35, to-chk=1/273)\n",
            "processed_data_GAN/train/true.txt\n",
            "        118,029 100%   81.34kB/s    0:00:01 (xfr#36, to-chk=0/273)\n",
            "\n",
            "sent 266,115,013 bytes  received 840 bytes  59,136,856.22 bytes/sec\n",
            "total size is 318,936,224  speedup is 1.20\n"
          ]
        }
      ]
    },
    {
      "cell_type": "code",
      "source": [
        "from tensorflow.python.client import device_lib\n",
        "device_lib.list_local_devices()\n"
      ],
      "metadata": {
        "colab": {
          "base_uri": "https://localhost:8080/"
        },
        "id": "6eTG6467aGGi",
        "outputId": "2d6a13c4-c9ca-46fe-e583-7f690905fd3f"
      },
      "execution_count": 5,
      "outputs": [
        {
          "output_type": "execute_result",
          "data": {
            "text/plain": [
              "[name: \"/device:CPU:0\"\n",
              " device_type: \"CPU\"\n",
              " memory_limit: 268435456\n",
              " locality {\n",
              " }\n",
              " incarnation: 824777859961521315\n",
              " xla_global_id: -1, name: \"/device:GPU:0\"\n",
              " device_type: \"GPU\"\n",
              " memory_limit: 40213086208\n",
              " locality {\n",
              "   bus_id: 1\n",
              "   links {\n",
              "   }\n",
              " }\n",
              " incarnation: 12840779883011119668\n",
              " physical_device_desc: \"device: 0, name: A100-SXM4-40GB, pci bus id: 0000:00:04.0, compute capability: 8.0\"\n",
              " xla_global_id: 416903419]"
            ]
          },
          "metadata": {},
          "execution_count": 5
        }
      ]
    },
    {
      "cell_type": "code",
      "source": [
        "!cd /content/local/TextGAN-PyTorch/ && python3 main.py --run_model=\"sentigan\" \\\n",
        "--dataset=\"docs\""
      ],
      "metadata": {
        "id": "aGiCl1XT8qHU"
      },
      "execution_count": null,
      "outputs": []
    },
    {
      "cell_type": "code",
      "source": [
        "import matplotlib.pyplot as plt\n",
        "\n",
        "title_dict = {\n",
        "    'gen_pre_loss': 'pre_loss',\n",
        "    'gen_adv_loss': 'g_loss',\n",
        "    'gen_mana_loss': 'mana_loss',\n",
        "    'gen_work_loss': 'work_loss',\n",
        "    'c_loss' : 'c_loss',\n",
        "    'c_acc' : 'c_acc',\n",
        "    'dis_loss': 'd_loss',\n",
        "    'dis_train_acc': 'train_acc',\n",
        "    'dis_eval_acc': 'eval_acc',\n",
        "    'NLL_oracle': 'NLL_oracle',\n",
        "    'NLL_gen': 'NLL_gen',\n",
        "    'BLEU-3': 'BLEU-3',\n",
        "}\n",
        "\n",
        "color_list = ['#e74c3c', '#e67e22', '#f1c40f', '#8e44ad', '#2980b9', '#27ae60', '#16a085']\n",
        "\n",
        "\n",
        "def plt_data(data, step, title, c_id, savefig=False):\n",
        "    x = [i for i in range(step)]\n",
        "    plt.plot(x, data, color=color_list[c_id], label=title)\n",
        "    if savefig:\n",
        "        plt.savefig('/content/local/TextGAN-PyTorch/savefig/' + title + '.png')\n",
        "\n",
        "\n",
        "def get_log_data(filename):\n",
        "    with open(filename, 'r') as fin:\n",
        "        all_lines = fin.read().strip().split('\\n')\n",
        "        data_dict = {'pre_loss': [], 'g_loss': [], 'mana_loss': [], 'work_loss': [],\n",
        "                     'd_loss': [], 'train_acc': [], 'eval_acc': [], 'NLL_oracle': [],\n",
        "                     'NLL_gen': [], 'BLEU-3': [], 'c_loss': [], 'c_acc': []}\n",
        "\n",
        "        for line in all_lines:\n",
        "            items = line.split()\n",
        "            try:\n",
        "                for key in data_dict.keys():\n",
        "                    if key in items:\n",
        "                        data_dict[key].append(float(items[items.index(key) + 2][:-1]))\n",
        "            except:\n",
        "                break\n",
        "\n",
        "    return data_dict"
      ],
      "metadata": {
        "id": "rSy9a6M_CXCM"
      },
      "execution_count": 36,
      "outputs": []
    },
    {
      "cell_type": "code",
      "source": [
        "  log_file_root = '/content/local/TextGAN-PyTorch/log/'\n",
        "  # Custom your log files in lists, no more than len(color_list)\n",
        "  log_file_list = ['log_0115_1811_42']\n",
        "  legend_text = ['SentiGAN']\n",
        "\n",
        "  color_id = 0\n",
        "  data_name = 'c_acc'\n",
        "  if_save = True\n",
        "  # legend_text = log_file_list\n",
        "\n",
        "  assert data_name in title_dict.keys(), 'Error data name'\n",
        "  plt.clf()\n",
        "  plt.title(data_name)\n",
        "  all_data_list = []\n",
        "  for idx, item in enumerate(log_file_list):\n",
        "      log_file = log_file_root + item + '.txt'\n",
        "\n",
        "      # save log file\n",
        "      all_data = get_log_data(log_file)\n",
        "      plt_data(all_data[title_dict[data_name]], len(all_data[title_dict[data_name]]),\n",
        "                legend_text[idx], color_id, if_save)\n",
        "      color_id += 1\n",
        "\n",
        "  plt.legend()\n",
        "  plt.show()\n"
      ],
      "metadata": {
        "colab": {
          "base_uri": "https://localhost:8080/",
          "height": 281
        },
        "id": "1VsQPcnQXUEu",
        "outputId": "09eea138-105b-4083-ab9e-de6e0eced3e9"
      },
      "execution_count": 40,
      "outputs": [
        {
          "output_type": "display_data",
          "data": {
            "text/plain": [
              "<Figure size 432x288 with 1 Axes>"
            ],
            "image/png": "[encoded data removed]"
          },
          "metadata": {
            "needs_background": "light"
          }
        }
      ]
    },
    {
      "cell_type": "code",
      "source": [
        "all_data"
      ],
      "metadata": {
        "colab": {
          "base_uri": "https://localhost:8080/"
        },
        "id": "w87waATiXWDd",
        "outputId": "4e4f8759-df9a-472c-e304-01385839cd8b"
      },
      "execution_count": 38,
      "outputs": [
        {
          "output_type": "execute_result",
          "data": {
            "text/plain": [
              "{'pre_loss': [5.4063],\n",
              " 'g_loss': [],\n",
              " 'mana_loss': [],\n",
              " 'work_loss': [],\n",
              " 'd_loss': [],\n",
              " 'train_acc': [],\n",
              " 'eval_acc': [0.2058,\n",
              "  0.2071,\n",
              "  0.2057,\n",
              "  0.2063,\n",
              "  0.2056,\n",
              "  0.213,\n",
              "  0.2077,\n",
              "  0.2054,\n",
              "  0.2031,\n",
              "  0.1966],\n",
              " 'NLL_oracle': [],\n",
              " 'NLL_gen': [],\n",
              " 'BLEU-3': [],\n",
              " 'c_loss': [1.7797,\n",
              "  1.7546,\n",
              "  1.7445,\n",
              "  1.7341,\n",
              "  1.7053,\n",
              "  1.6223,\n",
              "  1.4638,\n",
              "  1.0859,\n",
              "  0.5704,\n",
              "  0.2756],\n",
              " 'c_acc': [0.2031,\n",
              "  0.2141,\n",
              "  0.2109,\n",
              "  0.2133,\n",
              "  0.2156,\n",
              "  0.2227,\n",
              "  0.3539,\n",
              "  0.6391,\n",
              "  0.7891,\n",
              "  0.918]}"
            ]
          },
          "metadata": {},
          "execution_count": 38
        }
      ]
    },
    {
      "cell_type": "code",
      "source": [
        "!yes | cp -rf /content/local/TextGAN-PyTorch /content/drive/MyDrive/PROJECTS/Fake_News-Sentimental_Scrapers/"
      ],
      "metadata": {
        "id": "TDlO4CFnXmSQ"
      },
      "execution_count": 45,
      "outputs": []
    },
    {
      "cell_type": "code",
      "source": [],
      "metadata": {
        "id": "R6_BEu3pdIIF"
      },
      "execution_count": null,
      "outputs": []
    }
  ]
}