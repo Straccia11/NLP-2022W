{
 "cells": [
  {
   "cell_type": "code",
   "execution_count": 1,
   "metadata": {},
   "outputs": [],
   "source": [
    "import pandas as pd\n",
    "import openai"
   ]
  },
  {
   "cell_type": "code",
   "execution_count": 2,
   "metadata": {},
   "outputs": [],
   "source": [
    "data = pd.read_csv('../dataset/ingredients_tags.csv')"
   ]
  },
  {
   "cell_type": "code",
   "execution_count": 3,
   "metadata": {},
   "outputs": [],
   "source": [
    "with open('../openai_key.txt') as f:\n",
    "    key = f.readline()"
   ]
  },
  {
   "cell_type": "code",
   "execution_count": 4,
   "metadata": {},
   "outputs": [],
   "source": [
    "openai.api_key = key"
   ]
  },
  {
   "cell_type": "code",
   "execution_count": 5,
   "metadata": {},
   "outputs": [],
   "source": [
    "prompt_template = \"Give me list of dietary tags based on below text in json format\\n{}\\nDietary tags: \"\n",
    "prompt_vegan = \"Does dietary tag \\\"Vegan\\\" fit below recipe ingredients answer only True or False:\\n{}\\nAnswer:\""
   ]
  },
  {
   "cell_type": "code",
   "execution_count": 6,
   "metadata": {},
   "outputs": [],
   "source": [
    "index = 1\n",
    "response_ingredients_names = openai.Completion.create(\n",
    "  model=\"text-davinci-003\",\n",
    "  prompt=prompt_template.format(data.ingredients_list[index]),\n",
    "  temperature=0,\n",
    "  max_tokens=256,\n",
    "  top_p=1.0,\n",
    "  frequency_penalty=0.0,\n",
    "  presence_penalty=0.0\n",
    ")\n",
    "response_full_ingredients = openai.Completion.create(\n",
    "  model=\"text-davinci-003\",\n",
    "  prompt=prompt_template.format(data.ingredients[index]),\n",
    "  temperature=0,\n",
    "  max_tokens=256,\n",
    "  top_p=1.0,\n",
    "  frequency_penalty=0.0,\n",
    "  presence_penalty=0.0\n",
    ")"
   ]
  },
  {
   "cell_type": "code",
   "execution_count": 7,
   "metadata": {},
   "outputs": [
    {
     "name": "stdout",
     "output_type": "stream",
     "text": [
      "Give me list of dietary tags based on below text in json format\n",
      "onion, red bell pepper, garlic cloves, large shrimp, salt, hot pepper sauce, vegetable oil, andouille sausage, long grain rice, bay leaves, diced tomatoes, clam juice, fresh parsley\n",
      "Dietary tags: \n",
      "\n",
      " Response:\n",
      "\n",
      "{\n",
      "    \"Vegetarian\": false,\n",
      "    \"Vegan\": false,\n",
      "    \"Gluten-Free\": true,\n",
      "    \"Dairy-Free\": true,\n",
      "    \"Keto\": false,\n",
      "    \"Paleo\": false\n",
      "}\n"
     ]
    }
   ],
   "source": [
    "print(prompt_template.format(data.ingredients_list[index]))\n",
    "print('\\n Response:')\n",
    "print(response_ingredients_names['choices'][0]['text'])\n"
   ]
  },
  {
   "cell_type": "code",
   "execution_count": 8,
   "metadata": {},
   "outputs": [
    {
     "name": "stdout",
     "output_type": "stream",
     "text": [
      "Give me list of dietary tags based on below text in json format\n",
      "1   medium    onion, chopped coarse. 1   medium    red bell pepper, chopped coarse. 5   medium    garlic cloves, chopped coarse. 1   lb   extra large shrimp, shelled and deveined. salt. hot pepper sauce. 1   tablespoon    vegetable oil. 3/4  lb    andouille sausage, halved lengthwise and then cut into 1/4 inch slices. 1 1/2  cups    long grain rice. 4       bay leaves. 1 (14   ounce) can   diced tomatoes, briefly drained. 2 (8   ounce) bottles   clam juice. 1/4  cup    fresh parsley, chopped\n",
      "Dietary tags: \n",
      "\n",
      " Response:\n",
      "\n",
      "{\n",
      "  \"Vegetarian\": false,\n",
      "  \"Vegan\": false,\n",
      "  \"Gluten-Free\": true,\n",
      "  \"Dairy-Free\": true\n",
      "}\n"
     ]
    }
   ],
   "source": [
    "print(prompt_template.format(data.ingredients[index]))\n",
    "print('\\n Response:')\n",
    "print(response_full_ingredients['choices'][0]['text'])"
   ]
  },
  {
   "cell_type": "code",
   "execution_count": 9,
   "metadata": {},
   "outputs": [],
   "source": [
    "index = 1\n",
    "response_ingredients_names = openai.Completion.create(\n",
    "  model=\"text-davinci-003\",\n",
    "  prompt=prompt_vegan.format(data.ingredients_list[index]),\n",
    "  temperature=0,\n",
    "  max_tokens=64,\n",
    "  top_p=1.0,\n",
    "  frequency_penalty=0.0,\n",
    "  presence_penalty=0.0\n",
    ")"
   ]
  },
  {
   "cell_type": "code",
   "execution_count": 10,
   "metadata": {},
   "outputs": [
    {
     "name": "stdout",
     "output_type": "stream",
     "text": [
      "Does dietary tag \"Vegan\" fit below recipe ingredients answer only True or False:\n",
      "1   medium    onion, chopped coarse. 1   medium    red bell pepper, chopped coarse. 5   medium    garlic cloves, chopped coarse. 1   lb   extra large shrimp, shelled and deveined. salt. hot pepper sauce. 1   tablespoon    vegetable oil. 3/4  lb    andouille sausage, halved lengthwise and then cut into 1/4 inch slices. 1 1/2  cups    long grain rice. 4       bay leaves. 1 (14   ounce) can   diced tomatoes, briefly drained. 2 (8   ounce) bottles   clam juice. 1/4  cup    fresh parsley, chopped\n",
      "Answer:\n",
      "\n",
      " Response:\n",
      " False\n"
     ]
    }
   ],
   "source": [
    "print(prompt_vegan.format(data.ingredients[index]))\n",
    "print('\\n Response:')\n",
    "print(response_ingredients_names['choices'][0]['text'])"
   ]
  },
  {
   "cell_type": "code",
   "execution_count": 11,
   "metadata": {},
   "outputs": [],
   "source": [
    "ner_template = \"List ingredients names contained in the following list in json format\\n{}\\nIngredients:\""
   ]
  },
  {
   "cell_type": "code",
   "execution_count": 12,
   "metadata": {},
   "outputs": [],
   "source": [
    "index=3\n",
    "ner_response = openai.Completion.create(\n",
    "model=\"text-davinci-003\",\n",
    "  prompt=ner_template.format(data.ingredients[index]),\n",
    "  temperature=0,\n",
    "  max_tokens=256,\n",
    "  top_p=1.0,\n",
    "frequency_penalty=0.0,\n",
    "presence_penalty=0.0\n",
    ")"
   ]
  },
  {
   "cell_type": "code",
   "execution_count": 13,
   "metadata": {},
   "outputs": [
    {
     "name": "stdout",
     "output_type": "stream",
     "text": [
      "List ingredients names contained in the following list in json format\n",
      "2       zucchini, sliced. 2   small    yellow squash, sliced. 2 -3   cans    diced tomatoes. 1       onion, chopped. 4   cloves    garlic, crushed. 1       green bell pepper, chopped. 2   teaspoons    italian seasoning. 1   cup    water or 1   cup    vegetable broth. salt and pepper\n",
      "Ingredients:\n",
      "\n",
      "Response:\n",
      "\n",
      "[\n",
      "    \"zucchini\",\n",
      "    \"yellow squash\",\n",
      "    \"diced tomatoes\",\n",
      "    \"onion\",\n",
      "    \"garlic\",\n",
      "    \"green bell pepper\",\n",
      "    \"italian seasoning\",\n",
      "    \"water\",\n",
      "    \"vegetable broth\",\n",
      "    \"salt\",\n",
      "    \"pepper\"\n",
      "]\n"
     ]
    }
   ],
   "source": [
    "\n",
    "print(ner_template.format(data.ingredients[index]))\n",
    "print('\\nResponse:')\n",
    "print(ner_response['choices'][0]['text'])"
   ]
  }
 ],
 "metadata": {
  "kernelspec": {
   "display_name": "llm-recipes",
   "language": "python",
   "name": "python3"
  },
  "language_info": {
   "codemirror_mode": {
    "name": "ipython",
    "version": 3
   },
   "file_extension": ".py",
   "mimetype": "text/x-python",
   "name": "python",
   "nbconvert_exporter": "python",
   "pygments_lexer": "ipython3",
   "version": "3.9.15"
  },
  "orig_nbformat": 4,
  "vscode": {
   "interpreter": {
    "hash": "ba346623e5ccdafa152eee34f798478893b34ce52cd136388c918e0ef1d086ff"
   }
  }
 },
 "nbformat": 4,
 "nbformat_minor": 2
}
