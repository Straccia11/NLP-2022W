{
 "cells": [
  {
   "cell_type": "code",
   "execution_count": null,
   "metadata": {},
   "outputs": [],
   "source": [
    "import os\n",
    "import numpy as np\n",
    "import pandas as pd\n",
    "import absl.logging\n",
    "from nlp_title_embedding import BertTitle\n",
    "from nlp_classifier import CNN\n",
    "from sklearn import preprocessing\n",
    "from sklearn import metrics\n",
    "\n",
    "absl.logging.set_verbosity(absl.logging.ERROR)"
   ]
  },
  {
   "cell_type": "code",
   "execution_count": null,
   "metadata": {},
   "outputs": [],
   "source": [
    "def train(data_x_lyrics, data_x_title, data_y, nlp_title_embedding, nlp_classifier, label_encoder, dataset_name, epochs=1, batch_size=1000, model_dir='models', start_idx=0):\n",
    "    '''\n",
    "    Train a model.\n",
    "    Parameters:\n",
    "        data_x_lyrics (Series): Lyrics of the training data.\n",
    "        data_x_title (Series): Titles of the training data.\n",
    "        data_y (Series): Genres of the training data.\n",
    "        nlp_title_embedding (NLPTitleEmbedding): Instance of the title embedding method class.\n",
    "        nlp_classifier (NLPClassifier): Instance of the classifier class.\n",
    "        label_encoder (LabelEncoder): Label encoder after fitting.\n",
    "        dataset_name (str): Name of the dataset.\n",
    "        epochs (int): Number of epochs.\n",
    "        batch_size (int): Number of observations taken for single embedding and partial fitting.\n",
    "        model_dir (str): Name of directory for saved models.\n",
    "        start_idx (int): In case of interrupted training, from which observation restart the training.\n",
    "    '''\n",
    "    print('Training...')\n",
    "    data_y_enc = label_encoder.transform(data_y)\n",
    "    classes = np.unique(data_y_enc)\n",
    "    \n",
    "    for epoch in range(epochs):\n",
    "        print(f'Epoch: {str(epoch + 1)}/{str(epochs)}')\n",
    "        for i in range(start_idx, data_x_lyrics.shape[0], batch_size):\n",
    "            \n",
    "            if i + batch_size > data_x_lyrics.shape[0]:\n",
    "                j = data_x_lyrics.shape[0]\n",
    "            else:\n",
    "                j = i + batch_size\n",
    "            \n",
    "            print(f'Processing rows: {i} - {j - 1}')\n",
    "\n",
    "            embeddings = nlp_title_embedding.get_title_lyrics_embedding(data_x_lyrics[i:j], data_x_title[i:j])\n",
    "            nlp_classifier.partial_fit(embeddings, data_y_enc[i:j], classes=classes)\n",
    "            nlp_classifier.save(os.path.join(model_dir, dataset_name, f'model_{nlp_title_embedding.name}_{nlp_classifier.name}'))\n",
    "        start_idx = 0\n",
    "    \n",
    "    print('Success!')"
   ]
  },
  {
   "cell_type": "code",
   "execution_count": null,
   "metadata": {},
   "outputs": [],
   "source": [
    "def test(data_x_lyrics, data_x_title, nlp_title_embedding, nlp_classifier, label_encoder, dataset_name, batch_size=1000, predictions_dir='predictions', start_idx=0):\n",
    "    '''\n",
    "    Test a model and return predictions.\n",
    "    Parameters:\n",
    "        data_x_lyrics (Series): Lyrics of the test data.\n",
    "        data_x_title (Series): Titles of the test data.\n",
    "        nlp_title_embedding (NLPTitleEmbedding): Instance of the title embedding method class.\n",
    "        nlp_classifier (NLPClassifier): Instance of the classifier class.\n",
    "        label_encoder (LabelEncoder): Label encoder after fitting.\n",
    "        dataset_name (str): Name of the dataset.\n",
    "        batch_size (int): Number of observations taken for single embedding and prediction.\n",
    "        predictions_dir (str): Name of directory for predictions.\n",
    "        start_idx (int): In case of interrupted testing, from which observation restart the testing.\n",
    "    Returns:\n",
    "        list: Predictions of genres.\n",
    "    '''\n",
    "    print('Testing...')\n",
    "    fname = os.path.join(predictions_dir, dataset_name, f'model_{nlp_title_embedding.name}_{nlp_classifier.name}.csv')\n",
    "    predictions_all = []\n",
    "\n",
    "    if start_idx == 0 and os.path.exists(fname):\n",
    "        os.remove(fname)\n",
    "    \n",
    "    for i in range(start_idx, data_x_lyrics.shape[0], batch_size):\n",
    "\n",
    "        if i + batch_size > data_x_lyrics.shape[0]:\n",
    "            j = data_x_lyrics.shape[0]\n",
    "        else:\n",
    "            j = i + batch_size\n",
    "        \n",
    "        print(f'Processing rows: {i} - {j - 1}')\n",
    "\n",
    "        embeddings = nlp_title_embedding.get_title_lyrics_embedding(data_x_lyrics[i:j], data_x_title[i:j])\n",
    "        predictions_enc = nlp_classifier.predict(embeddings)\n",
    "        predictions = label_encoder.inverse_transform(predictions_enc)\n",
    "        \n",
    "        predictions_all.extend(predictions)\n",
    "\n",
    "        pd.DataFrame(predictions.reshape(-1, 1)).to_csv(fname, mode='a', index=False, header=False)\n",
    "    \n",
    "    print('Success!')    \n",
    "    \n",
    "    return predictions_all"
   ]
  },
  {
   "cell_type": "code",
   "execution_count": null,
   "metadata": {},
   "outputs": [],
   "source": [
    "def get_results(y_true, y_pred):\n",
    "    '''\n",
    "    Print accuracy, balanced accuracy and F1 score.\n",
    "    Parameters:\n",
    "        y_true (Series): True genres of the test data.\n",
    "        y_pred (Series): Predicted genres of the test data.\n",
    "    '''\n",
    "    print('RESULTS:')\n",
    "    print(f'accuracy = {metrics.accuracy_score(y_true=y_true, y_pred=y_pred)}')\n",
    "    print(f'balanced accuracy = {metrics.balanced_accuracy_score(y_true=y_true, y_pred=y_pred)}')\n",
    "    print(f'f1 score = {metrics.f1_score(y_true=y_true, y_pred=y_pred, average=\"weighted\")}')"
   ]
  },
  {
   "cell_type": "code",
   "execution_count": null,
   "metadata": {},
   "outputs": [],
   "source": [
    "# Parameters\n",
    "\n",
    "max_words = 400\n",
    "max_words_title = 15\n",
    "dataset_name = 'small_musicalgenres'"
   ]
  },
  {
   "cell_type": "code",
   "execution_count": null,
   "metadata": {},
   "outputs": [],
   "source": [
    "# Creation of necessary directories\n",
    "\n",
    "if not os.path.exists(f'models/{dataset_name}'):\n",
    "    os.makedirs(f'models/{dataset_name}')\n",
    "\n",
    "if not os.path.exists(f'predictions/{dataset_name}'):\n",
    "    os.makedirs(f'predictions/{dataset_name}')"
   ]
  },
  {
   "cell_type": "code",
   "execution_count": null,
   "metadata": {},
   "outputs": [],
   "source": [
    "# Reading training and test data from CSV files\n",
    "\n",
    "train_data = pd.read_csv(f'data/train/{dataset_name}.csv')\n",
    "test_data = pd.read_csv(f'data/test/{dataset_name}.csv')"
   ]
  },
  {
   "cell_type": "code",
   "execution_count": null,
   "metadata": {},
   "outputs": [],
   "source": [
    "# Label encoder fitting\n",
    "\n",
    "genres = np.unique(train_data.genre)\n",
    "label_encoder = preprocessing.LabelEncoder()\n",
    "label_encoder.fit(genres)"
   ]
  },
  {
   "cell_type": "code",
   "execution_count": null,
   "metadata": {
    "scrolled": true
   },
   "outputs": [],
   "source": [
    "# BERT + CNN + unnormalised lyrics and titles\n",
    "\n",
    "nlp_title_embedding = BertTitle(max_words, max_words_title)\n",
    "nlp_classifier = CNN((max_words + max_words_title) * nlp_title_embedding.embedding_size, len(genres), 'adam')\n",
    "train(train_data.lyrics, train_data.title, train_data.genre, nlp_title_embedding, nlp_classifier, label_encoder, dataset_name, epochs=5)\n",
    "y_pred = test(test_data.lyrics, test_data.title, nlp_title_embedding, nlp_classifier, label_encoder, dataset_name)\n",
    "get_results(test_data.genre, y_pred)"
   ]
  }
 ],
 "metadata": {
  "kernelspec": {
   "display_name": "Python 3",
   "language": "python",
   "name": "python3"
  },
  "language_info": {
   "codemirror_mode": {
    "name": "ipython",
    "version": 3
   },
   "file_extension": ".py",
   "mimetype": "text/x-python",
   "name": "python",
   "nbconvert_exporter": "python",
   "pygments_lexer": "ipython3",
   "version": "3.8.15 (default, Nov  4 2022, 15:16:59) [MSC v.1916 64 bit (AMD64)]"
  },
  "vscode": {
   "interpreter": {
    "hash": "cf3867dc7eb6b74b717291f53998e39b1c4928e27b652817468199b3aea2c37e"
   }
  }
 },
 "nbformat": 4,
 "nbformat_minor": 2
}
