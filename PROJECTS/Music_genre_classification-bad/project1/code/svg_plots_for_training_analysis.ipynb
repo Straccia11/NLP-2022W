{
 "cells": [
  {
   "cell_type": "code",
   "execution_count": null,
   "metadata": {},
   "outputs": [],
   "source": [
    "import pandas as pd\n",
    "import matplotlib.pyplot as plt"
   ]
  },
  {
   "cell_type": "code",
   "execution_count": null,
   "metadata": {},
   "outputs": [],
   "source": [
    "# Parameters\n",
    "\n",
    "path = 'training/small_balanced/model_smaller-bert_cnn'"
   ]
  },
  {
   "cell_type": "code",
   "execution_count": null,
   "metadata": {},
   "outputs": [],
   "source": [
    "# Reading training loss and accuracy data from CSV file\n",
    "\n",
    "training = pd.read_csv(f'{path}.txt', names=['loss', 'accuracy'], delimiter=' ')"
   ]
  },
  {
   "cell_type": "code",
   "execution_count": null,
   "metadata": {},
   "outputs": [],
   "source": [
    "def plot_and_save(path, column):\n",
    "    '''\n",
    "    Plot data from training and save it to SVG file.\n",
    "    Parameters:\n",
    "        path (str): Part of path to the file for saving.\n",
    "        column (str): Name of column for plotting.\n",
    "    '''\n",
    "    plt.plot(range(training.shape[0]), training[column])\n",
    "    plt.xlabel('training time')\n",
    "    plt.ylabel(column)\n",
    "    plt.savefig(f'{path}_{column}.svg')\n",
    "    plt.show()"
   ]
  },
  {
   "cell_type": "code",
   "execution_count": null,
   "metadata": {},
   "outputs": [],
   "source": [
    "# Plot and save training loss\n",
    "\n",
    "plot_and_save(path, 'loss')"
   ]
  },
  {
   "cell_type": "code",
   "execution_count": null,
   "metadata": {},
   "outputs": [],
   "source": [
    "# Plot and save training accuracy\n",
    "\n",
    "plot_and_save(path, 'accuracy')"
   ]
  }
 ],
 "metadata": {
  "kernelspec": {
   "display_name": "Python 3.9.13 ('base')",
   "language": "python",
   "name": "python3"
  },
  "language_info": {
   "codemirror_mode": {
    "name": "ipython",
    "version": 3
   },
   "file_extension": ".py",
   "mimetype": "text/x-python",
   "name": "python",
   "nbconvert_exporter": "python",
   "pygments_lexer": "ipython3",
   "version": "3.9.13 (main, Aug 25 2022, 23:51:50) [MSC v.1916 64 bit (AMD64)]"
  },
  "orig_nbformat": 4,
  "vscode": {
   "interpreter": {
    "hash": "1c978efebeb2270acb6188b84252153fa3db86f2d5406301959b558db2528b4a"
   }
  }
 },
 "nbformat": 4,
 "nbformat_minor": 2
}
