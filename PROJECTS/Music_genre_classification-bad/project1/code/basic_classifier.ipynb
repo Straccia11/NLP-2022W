{
 "cells": [
  {
   "cell_type": "code",
   "execution_count": null,
   "metadata": {},
   "outputs": [],
   "source": [
    "import os\n",
    "import numpy as np\n",
    "import pandas as pd\n",
    "import absl.logging\n",
    "from nlp_embedding import GloVe, SmallBert, Bert, Word2vec, LargeBert\n",
    "from nlp_classifier import NaiveBayes, SVM, XGBoost, CNN\n",
    "from sklearn import preprocessing, metrics\n",
    "from ast import literal_eval\n",
    "absl.logging.set_verbosity(absl.logging.ERROR)"
   ]
  },
  {
   "cell_type": "code",
   "execution_count": null,
   "metadata": {},
   "outputs": [],
   "source": [
    "# Parameters for training and testing\n",
    "\n",
    "max_words = 400\n",
    "dataset_name = 'small_balanced'\n",
    "cnn_epochs = 5"
   ]
  },
  {
   "cell_type": "code",
   "execution_count": null,
   "metadata": {},
   "outputs": [],
   "source": [
    "def train(data_x, data_y, nlp_embedding, nlp_classifier, label_encoder, batch_size, dataset_name, epochs=1, model_dir='models', start_idx=0, fname_end=''):\n",
    "    '''\n",
    "    Train a model.\n",
    "    Parameters:\n",
    "        data_x (Series): Lyrics of the training data.\n",
    "        data_y (Series): Genres of the training data.\n",
    "        nlp_embedding (NLPEmbedding): Instance of the embedding method class.\n",
    "        nlp_classifier (NLPClassifier): Instance of the classifier class.\n",
    "        label_encoder (LabelEncoder): Label encoder after fitting.\n",
    "        batch_size (int): Number of observations taken for single embedding and partial fitting.\n",
    "        dataset_name (str): Name of the dataset.\n",
    "        epochs (int): Number of epochs.\n",
    "        model_dir (str): Name of directory for saved models.\n",
    "        start_idx (int): In case of interrupted training, from which observation restart the training.\n",
    "        fname_end (str): Suffix of the saved model file name.\n",
    "    '''\n",
    "    print('Training...')\n",
    "    fname = os.path.join(model_dir, dataset_name, f'model_{nlp_embedding.name}_{nlp_classifier.name}{fname_end}')\n",
    "    data_y_enc = label_encoder.transform(data_y)\n",
    "    classes = np.unique(data_y_enc)\n",
    "    \n",
    "    for epoch in range(epochs):\n",
    "        print(f'Epoch: {str(epoch + 1)}/{str(epochs)}')\n",
    "        for i in range(start_idx, data_x.shape[0], batch_size):\n",
    "            \n",
    "            if i + batch_size > data_x.shape[0]:\n",
    "                j = data_x.shape[0]\n",
    "            else:\n",
    "                j = i + batch_size\n",
    "            \n",
    "            print(f'Processing rows: {i} - {j - 1}')\n",
    "\n",
    "            embeddings = nlp_embedding.embed_lyrics(data_x[i:j])\n",
    "            nlp_classifier.partial_fit(embeddings, data_y_enc[i:j], classes=classes)\n",
    "            nlp_classifier.save(fname)\n",
    "        start_idx = 0\n",
    "    \n",
    "    print('Success!')"
   ]
  },
  {
   "cell_type": "code",
   "execution_count": null,
   "metadata": {},
   "outputs": [],
   "source": [
    "def test(data_x, nlp_embedding, nlp_classifier, label_encoder, batch_size, dataset_name, pred_dir='predictions', start_idx=0, fname_end=''):\n",
    "    '''\n",
    "    Test a model and return predictions.\n",
    "    Parameters:\n",
    "        data_x (Series): Lyrics of the test data.\n",
    "        nlp_embedding (NLPEmbedding): Instance of the embedding method class.\n",
    "        nlp_classifier (NLPClassifier): Instance of the classifier class.\n",
    "        label_encoder (LabelEncoder): Label encoder after fitting.\n",
    "        batch_size (int): Number of observations taken for single embedding and prediction.\n",
    "        dataset_name (str): Name of the dataset.\n",
    "        pred_dir (str): Name of directory for predictions.\n",
    "        start_idx (int): In case of interrupted testing, from which observation restart the testing.\n",
    "        fname_end (str): Suffix of the saved predictions file name.\n",
    "    Returns:\n",
    "        list: Predictions of genres.\n",
    "    '''\n",
    "    print('Testing...')\n",
    "    fname = os.path.join(pred_dir, dataset_name, f'model_{nlp_embedding.name}_{nlp_classifier.name}{fname_end}.csv')\n",
    "    predictions_all = []\n",
    "\n",
    "    if start_idx == 0 and os.path.exists(fname):\n",
    "        os.remove(fname)\n",
    "    \n",
    "    for i in range(start_idx, data_x.shape[0], batch_size):\n",
    "\n",
    "        if i + batch_size > data_x.shape[0]:\n",
    "            j = data_x.shape[0]\n",
    "        else:\n",
    "            j = i + batch_size\n",
    "        \n",
    "        print(f'Processing rows: {i} - {j - 1}')\n",
    "\n",
    "        embeddings = nlp_embedding.embed_lyrics(data_x[i:j])\n",
    "        predictions_enc = nlp_classifier.predict(embeddings)\n",
    "        predictions = label_encoder.inverse_transform(predictions_enc)\n",
    "        \n",
    "        predictions_all.extend(predictions)\n",
    "\n",
    "        pd.DataFrame(predictions.reshape(-1, 1)).to_csv(fname, mode='a', index=False, header=False)\n",
    "    \n",
    "    print('Success!')    \n",
    "    \n",
    "    return predictions_all"
   ]
  },
  {
   "cell_type": "code",
   "execution_count": null,
   "metadata": {},
   "outputs": [],
   "source": [
    "def get_results(y_true, y_pred):\n",
    "    '''\n",
    "    Print accuracy, balanced accuracy and F1 score.\n",
    "    Parameters:\n",
    "        y_true (Series): True genres of the test data.\n",
    "        y_pred (Series): Predicted genres of the test data.\n",
    "    '''\n",
    "    print('RESULTS:')\n",
    "    print(f'accuracy = {metrics.accuracy_score(y_true=y_true, y_pred=y_pred)}')\n",
    "    print(f'balanced accuracy = {metrics.balanced_accuracy_score(y_true=y_true, y_pred=y_pred)}')\n",
    "    print(f'f1 score = {metrics.f1_score(y_true=y_true, y_pred=y_pred, average=\"weighted\")}')"
   ]
  },
  {
   "cell_type": "code",
   "execution_count": null,
   "metadata": {},
   "outputs": [],
   "source": [
    "def train_and_save_results(emb, clf, x_train, y_train, x_test, y_test, dataset_name, le, batch_size=5000, epochs=1, fname_end=''):\n",
    "    '''\n",
    "    Train a model, test it and print results.\n",
    "    Parameters:\n",
    "        emb (NLPEmbedding): Instance of the embedding method class.\n",
    "        clf (NLPClassifier): Instance of the classifier class.\n",
    "        x_train (Series): Lyrics of the training data.\n",
    "        y_train (Series): Genres of the training data.\n",
    "        x_test (Series): Lyrics of the test data.\n",
    "        y_test (Series): Genres of the test data.\n",
    "        dataset_name (str): Name of the dataset.\n",
    "        le (LabelEncoder): Label encoder after fitting.\n",
    "        batch_size (int): Number of observations taken for single embedding, partial fitting and predicting.\n",
    "        epochs (int): Number of epochs.\n",
    "        fname_end (str): Suffix of the saved model file name and saved predictions file name.\n",
    "    '''\n",
    "    train(x_train, y_train, emb, clf, le, batch_size, dataset_name, epochs=epochs, fname_end=fname_end)\n",
    "    y_pred = test(x_test, emb, clf, le, batch_size, dataset_name, fname_end=fname_end)\n",
    "    get_results(y_test, y_pred)"
   ]
  },
  {
   "cell_type": "code",
   "execution_count": null,
   "metadata": {},
   "outputs": [],
   "source": [
    "def add_normalized_lyrics(data):\n",
    "    '''\n",
    "    Add column to data frame with normalized lyrics created from tokens.\n",
    "    Parameters:\n",
    "        data (DataFrame): Data frame containing column with tokenized lyrics.\n",
    "    '''\n",
    "    tokens = data.tokens.apply(literal_eval)\n",
    "    data['normalized_lyrics'] = [' '.join(t) for t in tokens]"
   ]
  },
  {
   "cell_type": "code",
   "execution_count": null,
   "metadata": {},
   "outputs": [],
   "source": [
    "# Creation of necessary directories\n",
    "\n",
    "model_dir = os.path.join('models', dataset_name)\n",
    "if not os.path.exists(model_dir):\n",
    "    os.makedirs(model_dir)\n",
    "\n",
    "pred_dir = os.path.join('predictions', dataset_name)\n",
    "if not os.path.exists(pred_dir):\n",
    "    os.makedirs(pred_dir)"
   ]
  },
  {
   "cell_type": "code",
   "execution_count": null,
   "metadata": {},
   "outputs": [],
   "source": [
    "# Reading training and test data from CSV files\n",
    "\n",
    "train_data = pd.read_csv(f'data/train/{dataset_name}.csv')\n",
    "test_data = pd.read_csv(f'data/test/{dataset_name}.csv')"
   ]
  },
  {
   "cell_type": "code",
   "execution_count": null,
   "metadata": {},
   "outputs": [],
   "source": [
    "# Adding normalized lyrics based on tokens\n",
    "\n",
    "add_normalized_lyrics(train_data)\n",
    "add_normalized_lyrics(test_data)"
   ]
  },
  {
   "cell_type": "code",
   "execution_count": null,
   "metadata": {},
   "outputs": [],
   "source": [
    "# Label encoder fitting\n",
    "\n",
    "genres = np.unique(train_data.genre)\n",
    "label_encoder = preprocessing.LabelEncoder()\n",
    "label_encoder.fit(genres)\n",
    "label_encoder.classes_"
   ]
  },
  {
   "attachments": {},
   "cell_type": "markdown",
   "metadata": {},
   "source": [
    "## Smaller BERT - training and testing"
   ]
  },
  {
   "cell_type": "code",
   "execution_count": null,
   "metadata": {},
   "outputs": [],
   "source": [
    "emb_sm_bert = SmallBert(max_words)"
   ]
  },
  {
   "cell_type": "markdown",
   "metadata": {},
   "source": [
    "### Unnormalized lyrics"
   ]
  },
  {
   "cell_type": "code",
   "execution_count": null,
   "metadata": {
    "scrolled": true
   },
   "outputs": [],
   "source": [
    "# Naive Bayes classifier\n",
    "\n",
    "clf_nb = NaiveBayes()\n",
    "train_and_save_results(emb_sm_bert, clf_nb, \n",
    "                       train_data.lyrics, train_data.genre, test_data.lyrics, test_data.genre, \n",
    "                       dataset_name, label_encoder)"
   ]
  },
  {
   "cell_type": "code",
   "execution_count": null,
   "metadata": {
    "scrolled": true
   },
   "outputs": [],
   "source": [
    "# Linear SVM classifier\n",
    "\n",
    "clf_svm = SVM()\n",
    "train_and_save_results(emb_sm_bert, clf_svm, \n",
    "                       train_data.lyrics, train_data.genre, test_data.lyrics, test_data.genre, \n",
    "                       dataset_name, label_encoder)"
   ]
  },
  {
   "cell_type": "code",
   "execution_count": null,
   "metadata": {
    "scrolled": true
   },
   "outputs": [],
   "source": [
    "# XGBoost classifier\n",
    "\n",
    "clf_xgb = XGBoost(len(label_encoder.classes_))\n",
    "train_and_save_results(emb_sm_bert, clf_xgb, \n",
    "                       train_data.lyrics, train_data.genre, test_data.lyrics, test_data.genre, \n",
    "                       dataset_name, label_encoder)"
   ]
  },
  {
   "cell_type": "code",
   "execution_count": null,
   "metadata": {
    "scrolled": true
   },
   "outputs": [],
   "source": [
    "# CNN classifier\n",
    "\n",
    "clf_cnn = CNN(max_words * emb_sm_bert.embedding_size, len(genres), 'adam')\n",
    "train_and_save_results(emb_sm_bert, clf_cnn,\n",
    "                       train_data.lyrics, train_data.genre, test_data.lyrics, test_data.genre, \n",
    "                       dataset_name, label_encoder, epochs=cnn_epochs)"
   ]
  },
  {
   "cell_type": "markdown",
   "metadata": {},
   "source": [
    "### Normalized lyrics"
   ]
  },
  {
   "cell_type": "code",
   "execution_count": null,
   "metadata": {
    "scrolled": true
   },
   "outputs": [],
   "source": [
    "# Naive Bayes classifier\n",
    "\n",
    "clf_nb_norm = NaiveBayes()\n",
    "train_and_save_results(emb_sm_bert, clf_nb_norm, \n",
    "                       train_data.normalized_lyrics, train_data.genre, test_data.normalized_lyrics, test_data.genre, \n",
    "                       dataset_name, label_encoder, fname_end='_norm')"
   ]
  },
  {
   "cell_type": "code",
   "execution_count": null,
   "metadata": {
    "scrolled": true
   },
   "outputs": [],
   "source": [
    "# Linear SVM classifier\n",
    "\n",
    "clf_svm_norm = SVM()\n",
    "train_and_save_results(emb_sm_bert, clf_svm_norm, \n",
    "                       train_data.normalized_lyrics, train_data.genre, test_data.normalized_lyrics, test_data.genre, \n",
    "                       dataset_name, label_encoder, fname_end='_norm')"
   ]
  },
  {
   "cell_type": "code",
   "execution_count": null,
   "metadata": {
    "scrolled": true
   },
   "outputs": [],
   "source": [
    "# XGBoost classifier\n",
    "\n",
    "clf_xgb_norm = XGBoost(len(label_encoder.classes_))\n",
    "train_and_save_results(emb_sm_bert, clf_xgb_norm, \n",
    "                       train_data.normalized_lyrics, train_data.genre, test_data.normalized_lyrics, test_data.genre, \n",
    "                       dataset_name, label_encoder, fname_end='_norm')"
   ]
  },
  {
   "cell_type": "code",
   "execution_count": null,
   "metadata": {
    "scrolled": true
   },
   "outputs": [],
   "source": [
    "# CNN classifier\n",
    "\n",
    "clf_cnn_norm = CNN(max_words * emb_sm_bert.embedding_size, len(genres), 'adam')\n",
    "train_and_save_results(emb_sm_bert, clf_cnn_norm,\n",
    "                       train_data.normalized_lyrics, train_data.genre, test_data.normalized_lyrics, test_data.genre, \n",
    "                       dataset_name, label_encoder, epochs=cnn_epochs, fname_end='_norm')"
   ]
  },
  {
   "attachments": {},
   "cell_type": "markdown",
   "metadata": {},
   "source": [
    "## BERT - training and testing"
   ]
  },
  {
   "cell_type": "code",
   "execution_count": null,
   "metadata": {},
   "outputs": [],
   "source": [
    "emb_bert = Bert(max_words)"
   ]
  },
  {
   "cell_type": "code",
   "execution_count": null,
   "metadata": {},
   "outputs": [],
   "source": [
    "# CNN classifier and unnormalized lyrics\n",
    "\n",
    "clf_cnn_b = CNN(max_words * emb_bert.embedding_size, len(genres), 'adam')\n",
    "train_and_save_results(emb_bert, clf_cnn_b,\n",
    "                       train_data.lyrics, train_data.genre, test_data.lyrics, test_data.genre, \n",
    "                       dataset_name, label_encoder, epochs=cnn_epochs, batch_size=1000)"
   ]
  },
  {
   "cell_type": "code",
   "execution_count": null,
   "metadata": {},
   "outputs": [],
   "source": [
    "# CNN classifier and normalized lyrics\n",
    "\n",
    "clf_cnn_b_norm = CNN(max_words * emb_bert.embedding_size, len(genres), 'adam')\n",
    "train_and_save_results(emb_bert, clf_cnn_b_norm,\n",
    "                       train_data.normalized_lyrics, train_data.genre, test_data.normalized_lyrics, test_data.genre, \n",
    "                       dataset_name, label_encoder, epochs=cnn_epochs, batch_size=1000, fname_end='_norm')"
   ]
  },
  {
   "attachments": {},
   "cell_type": "markdown",
   "metadata": {},
   "source": [
    "## Large BERT - training and testing"
   ]
  },
  {
   "cell_type": "code",
   "execution_count": null,
   "metadata": {},
   "outputs": [],
   "source": [
    "emb_lr_bert = LargeBert(max_words)"
   ]
  },
  {
   "cell_type": "code",
   "execution_count": null,
   "metadata": {},
   "outputs": [],
   "source": [
    "# CNN classifier and unnormalized lyrics\n",
    "\n",
    "clf_cnn_bl = CNN(max_words * emb_lr_bert.embedding_size, len(genres), 'adam')\n",
    "train_and_save_results(emb_lr_bert, clf_cnn_bl,\n",
    "                       train_data.lyrics, train_data.genre, test_data.lyrics, test_data.genre, \n",
    "                       dataset_name, label_encoder, epochs=cnn_epochs, batch_size=1000)"
   ]
  },
  {
   "cell_type": "code",
   "execution_count": null,
   "metadata": {},
   "outputs": [],
   "source": [
    "# CNN classifier and normalized lyrics\n",
    "\n",
    "clf_cnn_bl_norm = CNN(max_words * emb_lr_bert.embedding_size, len(genres), 'adam')\n",
    "train_and_save_results(emb_lr_bert, clf_cnn_bl_norm,\n",
    "                       train_data.normalized_lyrics, train_data.genre, test_data.normalized_lyrics, test_data.genre, \n",
    "                       dataset_name, label_encoder, epochs=cnn_epochs, batch_size=1000, fname_end='_norm')"
   ]
  },
  {
   "attachments": {},
   "cell_type": "markdown",
   "metadata": {},
   "source": [
    "## GloVe - training and testing"
   ]
  },
  {
   "cell_type": "code",
   "execution_count": null,
   "metadata": {},
   "outputs": [],
   "source": [
    "emb_glove = GloVe(max_words)"
   ]
  },
  {
   "cell_type": "code",
   "execution_count": null,
   "metadata": {},
   "outputs": [],
   "source": [
    "# CNN classifier and unnormalized lyrics\n",
    "\n",
    "clf_cnn_g = CNN(max_words * emb_glove.embedding_size, len(genres), 'adam')\n",
    "train_and_save_results(emb_glove, clf_cnn_g, \n",
    "                       train_data.lyrics, train_data.genre, test_data.lyrics, test_data.genre, \n",
    "                       dataset_name, label_encoder, epochs=cnn_epochs)"
   ]
  },
  {
   "cell_type": "code",
   "execution_count": null,
   "metadata": {},
   "outputs": [],
   "source": [
    "# CNN classifier and normalized lyrics\n",
    "\n",
    "clf_cnn_g_norm = CNN(max_words * emb_glove.embedding_size, len(genres), 'adam')\n",
    "train_and_save_results(emb_glove, clf_cnn_g_norm, \n",
    "                       train_data.normalized_lyrics, train_data.genre, test_data.normalized_lyrics, test_data.genre, \n",
    "                       dataset_name, label_encoder, epochs=cnn_epochs, fname_end='_norm')"
   ]
  },
  {
   "attachments": {},
   "cell_type": "markdown",
   "metadata": {},
   "source": [
    "## Word2vec - training and testing"
   ]
  },
  {
   "cell_type": "code",
   "execution_count": null,
   "metadata": {},
   "outputs": [],
   "source": [
    "emb_wv = Word2vec(max_words)"
   ]
  },
  {
   "cell_type": "code",
   "execution_count": null,
   "metadata": {},
   "outputs": [],
   "source": [
    "# CNN classifier and unnormalized lyrics\n",
    "\n",
    "clf_cnn_w_nn = CNN(max_words * emb_wv.embedding_size, len(genres), 'adam')\n",
    "train_and_save_results(emb_wv, clf_cnn_w_nn, \n",
    "                       train_data.lyrics, train_data.genre, test_data.lyrics, test_data.genre, \n",
    "                       dataset_name, label_encoder, epochs=cnn_epochs)"
   ]
  },
  {
   "cell_type": "code",
   "execution_count": null,
   "metadata": {},
   "outputs": [],
   "source": [
    "# CNN classifier and normalized lyrics\n",
    "\n",
    "clf_cnn_w = CNN(max_words * emb_wv.embedding_size, len(genres), 'adam')\n",
    "train_and_save_results(emb_wv, clf_cnn_w, \n",
    "                       train_data.normalized_lyrics, train_data.genre, test_data.normalized_lyrics, test_data.genre, \n",
    "                       dataset_name, label_encoder, epochs=cnn_epochs, fname_end='_norm')"
   ]
  }
 ],
 "metadata": {
  "kernelspec": {
   "display_name": "Python 3",
   "language": "python",
   "name": "python3"
  },
  "language_info": {
   "codemirror_mode": {
    "name": "ipython",
    "version": 3
   },
   "file_extension": ".py",
   "mimetype": "text/x-python",
   "name": "python",
   "nbconvert_exporter": "python",
   "pygments_lexer": "ipython3",
   "version": "3.8.15 (default, Nov  4 2022, 15:16:59) [MSC v.1916 64 bit (AMD64)]"
  },
  "vscode": {
   "interpreter": {
    "hash": "cf3867dc7eb6b74b717291f53998e39b1c4928e27b652817468199b3aea2c37e"
   }
  }
 },
 "nbformat": 4,
 "nbformat_minor": 2
}
