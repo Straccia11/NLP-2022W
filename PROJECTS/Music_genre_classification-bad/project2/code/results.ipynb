{
 "cells": [
  {
   "cell_type": "code",
   "execution_count": null,
   "metadata": {},
   "outputs": [],
   "source": [
    "import pandas as pd\n",
    "from sklearn import metrics\n",
    "import matplotlib.pyplot as plt\n",
    "import numpy as np"
   ]
  },
  {
   "cell_type": "code",
   "execution_count": null,
   "metadata": {},
   "outputs": [],
   "source": [
    "def get_all_results(dataset_name, embeddings, classifiers, y_true):\n",
    "    accuracy = []\n",
    "    balanced_accuracy = []\n",
    "    f1 = []\n",
    "    emb_names = []\n",
    "    cls_names = []\n",
    "    for emb_name in embeddings:\n",
    "        for cls_name in classifiers:\n",
    "            fname = f'{dataset_name}/predictions/model_{emb_name}_{cls_name}.csv'\n",
    "            y_pred = pd.read_csv(fname, header=None)\n",
    "            accuracy.append(metrics.accuracy_score(y_true=y_true, y_pred=y_pred))\n",
    "            balanced_accuracy.append(metrics.balanced_accuracy_score(y_true=y_true, y_pred=y_pred))\n",
    "            f1.append(metrics.f1_score(y_true=y_true, y_pred=y_pred, average='weighted'))\n",
    "            emb_names.append(emb_name)\n",
    "            cls_names.append(cls_name)\n",
    "    results = pd.DataFrame({\n",
    "        'nlp_embedding': emb_names,\n",
    "        'nlp_classifier': cls_names,\n",
    "        'accuracy': accuracy,\n",
    "        'balanced_accuracy': balanced_accuracy,\n",
    "        'f1_score': f1})\n",
    "    results"
   ]
  },
  {
   "cell_type": "code",
   "execution_count": null,
   "metadata": {},
   "outputs": [],
   "source": [
    "def draw_conf_matrix(y_true, y_pred):\n",
    "    fig, ax = plt.subplots(figsize=(14, 14))\n",
    "    labels = np.unique(y_true)\n",
    "    cm = metrics.confusion_matrix(y_true, y_pred, labels=labels)\n",
    "    cm_display = metrics.ConfusionMatrixDisplay(confusion_matrix=cm, display_labels=labels)\n",
    "    cm_display.plot(ax=ax, values_format='.0f')\n",
    "    plt.show()"
   ]
  },
  {
   "cell_type": "code",
   "execution_count": null,
   "metadata": {},
   "outputs": [],
   "source": [
    "dataset_name = 'small_balanced'\n",
    "nlp_embeddings = ['bert', 'small-bert', 'glove', 'word2vec']\n",
    "nlp_classifiers = ['naive-bayes', 'svm', 'xgboost', 'cnn']"
   ]
  },
  {
   "cell_type": "code",
   "execution_count": null,
   "metadata": {},
   "outputs": [],
   "source": [
    "test_data = pd.read_csv(f'data/test/{dataset_name}.csv')\n",
    "y_true = test_data.genre"
   ]
  },
  {
   "cell_type": "code",
   "execution_count": null,
   "metadata": {},
   "outputs": [],
   "source": [
    "get_all_results(dataset_name, nlp_embeddings, nlp_classifiers, y_true)"
   ]
  },
  {
   "cell_type": "code",
   "execution_count": null,
   "metadata": {},
   "outputs": [],
   "source": [
    "fname = f'predictions/{dataset_name}/model_small-bert_cnn.csv'\n",
    "y_pred = pd.read_csv(fname, header=None)\n",
    "draw_conf_matrix(y_true, y_pred)"
   ]
  }
 ],
 "metadata": {
  "kernelspec": {
   "display_name": "Python 3",
   "language": "python",
   "name": "python3"
  },
  "language_info": {
   "codemirror_mode": {
    "name": "ipython",
    "version": 3
   },
   "file_extension": ".py",
   "mimetype": "text/x-python",
   "name": "python",
   "nbconvert_exporter": "python",
   "pygments_lexer": "ipython3",
   "version": "3.7.6"
  },
  "vscode": {
   "interpreter": {
    "hash": "1c978efebeb2270acb6188b84252153fa3db86f2d5406301959b558db2528b4a"
   }
  }
 },
 "nbformat": 4,
 "nbformat_minor": 2
}
