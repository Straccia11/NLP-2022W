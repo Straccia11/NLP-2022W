{
 "cells": [
  {
   "cell_type": "code",
   "execution_count": null,
   "metadata": {},
   "outputs": [],
   "source": [
    "import os\n",
    "import numpy as np\n",
    "import pandas as pd\n",
    "import absl.logging\n",
    "import tensorflow as tf\n",
    "from tensorflow.keras import layers, models\n",
    "from nlp_embedding import GloVe, SmallBert, Bert, Word2vec, LargeBert\n",
    "from nlp_classifier import CNN, BinaryCNN, CNN2Step\n",
    "from sklearn import preprocessing, metrics\n",
    "from ast import literal_eval\n",
    "absl.logging.set_verbosity(absl.logging.ERROR)\n",
    "tf.get_logger().setLevel('ERROR')"
   ]
  },
  {
   "cell_type": "code",
   "execution_count": null,
   "metadata": {},
   "outputs": [],
   "source": [
    "max_words = 400\n",
    "dataset_name = 'small'\n",
    "cnn_epochs = 5\n",
    "indiv_genre = 'Rock'\n",
    "optimizer = 'adam'"
   ]
  },
  {
   "cell_type": "code",
   "execution_count": null,
   "metadata": {},
   "outputs": [],
   "source": [
    "def train(data_x, data_y, nlp_embedding, nlp_classifier, label_encoder, batch_size, dataset_name, epochs=1, model_dir='models', start_idx=0, fname_end=''):\n",
    "    print('Training...')\n",
    "    fname = os.path.join(model_dir, dataset_name, f'model_{nlp_embedding.name}_{nlp_classifier.name}{fname_end}')\n",
    "    data_y_enc = label_encoder.transform(data_y)\n",
    "    \n",
    "    for epoch in range(epochs):\n",
    "        print(f'Epoch: {str(epoch + 1)}/{str(epochs)}')\n",
    "        for i in range(start_idx, data_x.shape[0], batch_size):\n",
    "            \n",
    "            if i + batch_size > data_x.shape[0]:\n",
    "                j = data_x.shape[0]\n",
    "            else:\n",
    "                j = i + batch_size\n",
    "            \n",
    "            print(f'Processing rows: {i} - {j - 1}')\n",
    "\n",
    "            embeddings = nlp_embedding.embed_lyrics(data_x[i:j])\n",
    "            nlp_classifier.partial_fit(embeddings, data_y_enc[i:j])\n",
    "            nlp_classifier.save(fname)\n",
    "        start_idx = 0\n",
    "    \n",
    "    print('Success!')"
   ]
  },
  {
   "cell_type": "code",
   "execution_count": null,
   "metadata": {},
   "outputs": [],
   "source": [
    "def test(data_x, nlp_embedding, nlp_classifier, label_encoder, batch_size, dataset_name, pred_dir='predictions', start_idx=0, fname_end=''):\n",
    "    print('Testing...')\n",
    "    fname = os.path.join(pred_dir, dataset_name, f'model_{nlp_embedding.name}_{nlp_classifier.name}{fname_end}.csv')\n",
    "    predictions_all = []\n",
    "\n",
    "    if start_idx == 0 and os.path.exists(fname):\n",
    "        os.remove(fname)\n",
    "    \n",
    "    for i in range(start_idx, data_x.shape[0], batch_size):\n",
    "\n",
    "        if i + batch_size > data_x.shape[0]:\n",
    "            j = data_x.shape[0]\n",
    "        else:\n",
    "            j = i + batch_size\n",
    "        \n",
    "        print(f'Processing rows: {i} - {j - 1}')\n",
    "\n",
    "        embeddings = nlp_embedding.embed_lyrics(data_x[i:j])\n",
    "        predictions_enc = nlp_classifier.predict(embeddings)\n",
    "        predictions = label_encoder.inverse_transform(predictions_enc)\n",
    "        \n",
    "        predictions_all.extend(predictions)\n",
    "\n",
    "        pd.DataFrame(predictions.reshape(-1, 1)).to_csv(fname, mode='a', index=False, header=False)\n",
    "    \n",
    "    print('Success!')    \n",
    "    \n",
    "    return predictions_all"
   ]
  },
  {
   "cell_type": "code",
   "execution_count": null,
   "metadata": {},
   "outputs": [],
   "source": [
    "def get_results(y_true, y_pred):\n",
    "    print('RESULTS:')\n",
    "    print(f'accuracy = {metrics.accuracy_score(y_true=y_true, y_pred=y_pred)}')\n",
    "    print(f'balanced accuracy = {metrics.balanced_accuracy_score(y_true=y_true, y_pred=y_pred)}')\n",
    "    print(f'f1 score = {metrics.f1_score(y_true=y_true, y_pred=y_pred, average=\"weighted\")}')"
   ]
  },
  {
   "cell_type": "code",
   "execution_count": null,
   "metadata": {},
   "outputs": [],
   "source": [
    "def train_and_save_results(emb, clf, x_train, y_train, x_test, y_test, dataset_name, le, batch_size=5000, epochs=1, fname_end=''):\n",
    "    train(x_train, y_train, emb, clf, le, batch_size, dataset_name, epochs=epochs, fname_end=fname_end)\n",
    "    y_pred = test(x_test, emb, clf, le, batch_size, dataset_name, fname_end=fname_end)\n",
    "    get_results(y_test, y_pred)\n",
    "    return"
   ]
  },
  {
   "cell_type": "code",
   "execution_count": null,
   "metadata": {},
   "outputs": [],
   "source": [
    "def add_normalized_lyrics(data):\n",
    "    tokens = data.tokens.apply(literal_eval)\n",
    "    data['normalized_lyrics'] = [' '.join(t) for t in tokens]"
   ]
  },
  {
   "cell_type": "code",
   "execution_count": null,
   "metadata": {},
   "outputs": [],
   "source": [
    "model_dir = os.path.join('models', dataset_name)\n",
    "if not os.path.exists(model_dir):\n",
    "    os.makedirs(model_dir)\n",
    "\n",
    "pred_dir = os.path.join('predictions', dataset_name)\n",
    "if not os.path.exists(pred_dir):\n",
    "    os.makedirs(pred_dir)"
   ]
  },
  {
   "cell_type": "code",
   "execution_count": null,
   "metadata": {},
   "outputs": [],
   "source": [
    "train_data = pd.read_csv(f'data/train/{dataset_name}.csv')\n",
    "test_data = pd.read_csv(f'data/test/{dataset_name}.csv')"
   ]
  },
  {
   "cell_type": "code",
   "execution_count": null,
   "metadata": {},
   "outputs": [],
   "source": [
    "add_normalized_lyrics(train_data)\n",
    "add_normalized_lyrics(test_data)"
   ]
  },
  {
   "cell_type": "code",
   "execution_count": null,
   "metadata": {},
   "outputs": [],
   "source": [
    "genres = np.unique(train_data.genre)\n",
    "label_encoder = preprocessing.LabelEncoder()\n",
    "label_encoder.fit(genres)\n",
    "label_encoder.classes_"
   ]
  },
  {
   "cell_type": "code",
   "execution_count": null,
   "metadata": {},
   "outputs": [],
   "source": [
    "indiv_genre_label = label_encoder.transform([indiv_genre])[0]"
   ]
  },
  {
   "cell_type": "markdown",
   "metadata": {},
   "source": [
    "## Smaller BERT"
   ]
  },
  {
   "cell_type": "code",
   "execution_count": null,
   "metadata": {},
   "outputs": [],
   "source": [
    "emb_sm_bert = SmallBert(max_words)"
   ]
  },
  {
   "cell_type": "code",
   "execution_count": null,
   "metadata": {
    "scrolled": true
   },
   "outputs": [],
   "source": [
    "clf_cnn_norm = CNN2Step(max_words * emb_sm_bert.embedding_size, len(genres), optimizer, indiv_genre_label)\n",
    "train_and_save_results(emb_sm_bert, clf_cnn_norm,\n",
    "                       train_data.normalized_lyrics, train_data.genre, test_data.normalized_lyrics, test_data.genre, \n",
    "                       dataset_name, label_encoder, epochs=cnn_epochs, fname_end='_norm')"
   ]
  },
  {
   "cell_type": "markdown",
   "metadata": {},
   "source": [
    "## BERT"
   ]
  },
  {
   "cell_type": "code",
   "execution_count": null,
   "metadata": {},
   "outputs": [],
   "source": [
    "emb_bert = Bert(max_words)"
   ]
  },
  {
   "cell_type": "code",
   "execution_count": null,
   "metadata": {},
   "outputs": [],
   "source": [
    "clf_cnn_b_norm = CNN2Step(max_words * emb_bert.embedding_size, len(genres), optimizer, indiv_genre_label)\n",
    "train_and_save_results(emb_bert, clf_cnn_b_norm,\n",
    "                       train_data.normalized_lyrics, train_data.genre, test_data.normalized_lyrics, test_data.genre, \n",
    "                       dataset_name, label_encoder, epochs=cnn_epochs, batch_size=1000, fname_end='_norm')"
   ]
  },
  {
   "cell_type": "markdown",
   "metadata": {},
   "source": [
    "## Large BERT"
   ]
  },
  {
   "cell_type": "code",
   "execution_count": null,
   "metadata": {},
   "outputs": [],
   "source": [
    "emb_lr_bert = LargeBert(max_words)"
   ]
  },
  {
   "cell_type": "code",
   "execution_count": null,
   "metadata": {},
   "outputs": [],
   "source": [
    "clf_cnn_bl_norm = CNN2Step(max_words * emb_lr_bert.embedding_size, len(genres), optimizer, indiv_genre_label)\n",
    "train_and_save_results(emb_lr_bert, clf_cnn_bl_norm,\n",
    "                       train_data.normalized_lyrics, train_data.genre, test_data.normalized_lyrics, test_data.genre, \n",
    "                       dataset_name, label_encoder, epochs=cnn_epochs, batch_size=1000, fname_end='_norm')"
   ]
  },
  {
   "cell_type": "markdown",
   "metadata": {},
   "source": [
    "## GloVe"
   ]
  },
  {
   "cell_type": "code",
   "execution_count": null,
   "metadata": {},
   "outputs": [],
   "source": [
    "emb_glove = GloVe(max_words)"
   ]
  },
  {
   "cell_type": "code",
   "execution_count": null,
   "metadata": {},
   "outputs": [],
   "source": [
    "clf_cnn_g_norm = CNN2Step(max_words * emb_glove.embedding_size, len(genres), optimizer, indiv_genre_label)\n",
    "train_and_save_results(emb_glove, clf_cnn_g_norm, \n",
    "                       train_data.normalized_lyrics, train_data.genre, test_data.normalized_lyrics, test_data.genre, \n",
    "                       dataset_name, label_encoder, epochs=cnn_epochs, fname_end='_norm')"
   ]
  },
  {
   "cell_type": "markdown",
   "metadata": {},
   "source": [
    "## Word2vec"
   ]
  },
  {
   "cell_type": "code",
   "execution_count": null,
   "metadata": {},
   "outputs": [],
   "source": [
    "emb_wv = Word2vec(max_words)"
   ]
  },
  {
   "cell_type": "code",
   "execution_count": null,
   "metadata": {},
   "outputs": [],
   "source": [
    "clf_cnn_w_norm = CNN2Step(max_words * emb_wv.embedding_size, len(genres), optimizer, indiv_genre_label)\n",
    "train_and_save_results(emb_wv, clf_cnn_w_norm, \n",
    "                       train_data.normalized_lyrics, train_data.genre, test_data.normalized_lyrics, test_data.genre, \n",
    "                       dataset_name, label_encoder, epochs=cnn_epochs, fname_end='_norm')"
   ]
  }
 ],
 "metadata": {
  "kernelspec": {
   "display_name": "Python 3",
   "language": "python",
   "name": "python3"
  },
  "language_info": {
   "codemirror_mode": {
    "name": "ipython",
    "version": 3
   },
   "file_extension": ".py",
   "mimetype": "text/x-python",
   "name": "python",
   "nbconvert_exporter": "python",
   "pygments_lexer": "ipython3",
   "version": "3.8.15"
  },
  "vscode": {
   "interpreter": {
    "hash": "cf3867dc7eb6b74b717291f53998e39b1c4928e27b652817468199b3aea2c37e"
   }
  }
 },
 "nbformat": 4,
 "nbformat_minor": 2
}
