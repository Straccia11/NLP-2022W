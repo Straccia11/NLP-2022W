{
 "cells": [
  {
   "cell_type": "code",
   "execution_count": 1,
   "metadata": {},
   "outputs": [],
   "source": [
    "import json\n",
    "from pathlib import Path\n",
    "import seaborn as sns\n",
    "import matplotlib.pyplot as plt\n",
    "%matplotlib inline"
   ]
  },
  {
   "cell_type": "code",
   "execution_count": 2,
   "metadata": {},
   "outputs": [],
   "source": [
    "DATA_PATH = r\"./data/tvtropes_books\"\n",
    "\n",
    "for fname in (f\"tvtropes_books-{suffix}.json\" for suffix in [\"train\", \"test\", \"val\"]):\n",
    "    assert (Path(DATA_PATH) / fname).is_file(), f\"File {fname} not found\""
   ]
  },
  {
   "cell_type": "code",
   "execution_count": 3,
   "metadata": {},
   "outputs": [],
   "source": [
    "train_list, val_list, test_list = [], [], []\n",
    "for path, which in ((Path(DATA_PATH) / f\"tvtropes_books-{suffix}.json\", suffix) for suffix in [\"train\", \"test\", \"val\"]):\n",
    "    with open(path, \"r\") as f:\n",
    "        for line in f:\n",
    "            globals()[f\"{which}_list\"].append(json.loads(line))"
   ]
  },
  {
   "cell_type": "code",
   "execution_count": 4,
   "metadata": {},
   "outputs": [
    {
     "data": {
      "text/plain": "(273262, 34158, 34158)"
     },
     "execution_count": 4,
     "metadata": {},
     "output_type": "execute_result"
    }
   ],
   "source": [
    "len(train_list), len(val_list), len(test_list)"
   ]
  },
  {
   "cell_type": "code",
   "execution_count": 5,
   "metadata": {},
   "outputs": [
    {
     "data": {
      "text/plain": "{'page': 'https://tvtropes.org/pmwiki/pmwiki.php/Literature/ServantsOfTheEmpire',\n 'trope': 'Simultaneous Arcs',\n 'has_spoiler': True,\n 'sentences': [[False,\n   'The series takes place at least a year before Season 1 and after \"Fire Across the Galaxy\".',\n   []],\n  [False,\n   \"As a result, mentions of the Ghost crew's exploits are thrown around every once and a while.\",\n   []],\n  [False, 'We also get some Adaptation Expansion as well. \"', []],\n  [False, 'Breaking Ranks\" gets novelized in \"Rebel in the Ranks\".', []],\n  [False,\n   'While on the way to cutting off her debt to the Gray Syndicate during \"Imperial Justice\", Zeb comms Merei to get information from Zare on the Trayvis situation in \"Vision of Hope\".',\n   []],\n  [False,\n   'Due to being preoccupied, she rejects it and tells them to send Chopper.',\n   []],\n  [False,\n   \"Chopper passes Zare a note from 'Dev', and the meeting scene from the same episode occurs later.\",\n   []],\n  [False,\n   'The seizure of the communications tower from \"Call to Action\" is mentioned.',\n   []],\n  [False,\n   \"This becomes a problem for Merei, since she conducted an identity switch on the Imperial network and cannot change it back with the network down, also not helped that the Imperials have tightened up security and are tracking down everyone that's been involved in the data breach.\",\n   []],\n  [True,\n   'Dhara was being personally tortured by the Grand Inquisitor.',\n   [[0, 60]]],\n  [True,\n   'By the time of \"The Secret Academy\", he is dead, as per the events of \"Fire Across the Galaxy\", alleviating her fears of him.',\n   [[0, 125]]]]}"
     },
     "execution_count": 5,
     "metadata": {},
     "output_type": "execute_result"
    }
   ],
   "source": [
    "train_list[0]"
   ]
  },
  {
   "cell_type": "code",
   "execution_count": 6,
   "metadata": {},
   "outputs": [
    {
     "data": {
      "text/plain": "[[False,\n  'The series takes place at least a year before Season 1 and after \"Fire Across the Galaxy\".',\n  []],\n [False,\n  \"As a result, mentions of the Ghost crew's exploits are thrown around every once and a while.\",\n  []],\n [False, 'We also get some Adaptation Expansion as well. \"', []],\n [False, 'Breaking Ranks\" gets novelized in \"Rebel in the Ranks\".', []],\n [False,\n  'While on the way to cutting off her debt to the Gray Syndicate during \"Imperial Justice\", Zeb comms Merei to get information from Zare on the Trayvis situation in \"Vision of Hope\".',\n  []],\n [False,\n  'Due to being preoccupied, she rejects it and tells them to send Chopper.',\n  []],\n [False,\n  \"Chopper passes Zare a note from 'Dev', and the meeting scene from the same episode occurs later.\",\n  []],\n [False,\n  'The seizure of the communications tower from \"Call to Action\" is mentioned.',\n  []],\n [False,\n  \"This becomes a problem for Merei, since she conducted an identity switch on the Imperial network and cannot change it back with the network down, also not helped that the Imperials have tightened up security and are tracking down everyone that's been involved in the data breach.\",\n  []],\n [True,\n  'Dhara was being personally tortured by the Grand Inquisitor.',\n  [[0, 60]]],\n [True,\n  'By the time of \"The Secret Academy\", he is dead, as per the events of \"Fire Across the Galaxy\", alleviating her fears of him.',\n  [[0, 125]]]]"
     },
     "execution_count": 6,
     "metadata": {},
     "output_type": "execute_result"
    }
   ],
   "source": [
    "train_list[0]['sentences']"
   ]
  },
  {
   "cell_type": "markdown",
   "metadata": {},
   "source": [
    "Liczba zdań spoilerów:"
   ]
  },
  {
   "cell_type": "code",
   "execution_count": 7,
   "metadata": {},
   "outputs": [
    {
     "data": {
      "text/plain": "89972"
     },
     "execution_count": 7,
     "metadata": {},
     "output_type": "execute_result"
    }
   ],
   "source": [
    "sum(x[0] for y in train_list for x in y['sentences'])"
   ]
  },
  {
   "cell_type": "markdown",
   "metadata": {},
   "source": [
    "Liczba zdań niespoilerów:"
   ]
  },
  {
   "cell_type": "code",
   "execution_count": 8,
   "metadata": {},
   "outputs": [
    {
     "data": {
      "text/plain": "442475"
     },
     "execution_count": 8,
     "metadata": {},
     "output_type": "execute_result"
    }
   ],
   "source": [
    "sum(not x[0] for y in train_list for x in y['sentences'])"
   ]
  },
  {
   "cell_type": "markdown",
   "metadata": {},
   "source": [
    "Histogram liczby oznaczonych spoilerów w zdaniach:"
   ]
  },
  {
   "cell_type": "code",
   "execution_count": 9,
   "metadata": {},
   "outputs": [
    {
     "data": {
      "text/plain": "<Figure size 640x480 with 1 Axes>",
      "image/png": "[encoded data removed]"
     },
     "metadata": {},
     "output_type": "display_data"
    }
   ],
   "source": [
    "ax = sns.countplot(x=[len(x[2]) for y in train_list for x in y['sentences'] if x[0]])\n",
    "ax.bar_label(ax.containers[0])\n",
    "plt.show()"
   ]
  },
  {
   "cell_type": "code",
   "execution_count": 10,
   "metadata": {},
   "outputs": [],
   "source": [
    "import re\n",
    "\n",
    "def split_with_position(str_):\n",
    "    word_pos_list = []\n",
    "    for m in re.finditer(r'\\S+', str_):\n",
    "        pos, word = m.span(), m.group()\n",
    "        word_pos_list.append((word, pos))\n",
    "    return word_pos_list"
   ]
  },
  {
   "cell_type": "code",
   "execution_count": 11,
   "metadata": {},
   "outputs": [],
   "source": [
    "def text_to_word_sequence(\n",
    "    input_text,\n",
    "    filters='!\"#$%&()*+,-./:;<=>?@[\\\\]^_`{|}~\\t\\n',\n",
    "    lower=True,\n",
    "    split=\" \",\n",
    "    return_pos=True\n",
    "):\n",
    "    if lower:\n",
    "        input_text = input_text.lower()\n",
    "\n",
    "    translate_dict = {c: split for c in filters}\n",
    "    translate_map = str.maketrans(translate_dict)\n",
    "    input_text = input_text.translate(translate_map)\n",
    "\n",
    "    if return_pos:\n",
    "        return tuple(zip(*[(word, pos) for word, pos in split_with_position(input_text) if word]))\n",
    "    else:\n",
    "        return tuple(word for word, pos in split_with_position(input_text) if word)"
   ]
  },
  {
   "cell_type": "code",
   "execution_count": 12,
   "metadata": {},
   "outputs": [
    {
     "data": {
      "text/plain": "(('ala', 'ma', 'kota', 'a'), ((1, 4), (5, 7), (8, 12), (14, 15)))"
     },
     "execution_count": 12,
     "metadata": {},
     "output_type": "execute_result"
    }
   ],
   "source": [
    "text_to_word_sequence(\" Ala ma kota! a\")"
   ]
  },
  {
   "cell_type": "code",
   "execution_count": 13,
   "metadata": {},
   "outputs": [
    {
     "data": {
      "text/plain": "('ala', 'ma', 'kota', 'a')"
     },
     "execution_count": 13,
     "metadata": {},
     "output_type": "execute_result"
    }
   ],
   "source": [
    "text_to_word_sequence(\" Ala ma kota! a\", return_pos=False)"
   ]
  },
  {
   "cell_type": "markdown",
   "metadata": {},
   "source": [
    "Histogram liczby słów w całych recenzjach:"
   ]
  },
  {
   "cell_type": "code",
   "execution_count": 14,
   "metadata": {},
   "outputs": [
    {
     "data": {
      "text/plain": "<Figure size 640x480 with 1 Axes>",
      "image/png": "[encoded data removed]"
     },
     "metadata": {},
     "output_type": "display_data"
    }
   ],
   "source": [
    "sns.histplot([len(text_to_word_sequence(' '.join(x[1] for x in y['sentences']), return_pos=False)) for y in train_list]);"
   ]
  },
  {
   "cell_type": "markdown",
   "metadata": {},
   "source": [
    "Histogram liczby słów we zdaniach (wszystkich):"
   ]
  },
  {
   "cell_type": "code",
   "execution_count": 15,
   "metadata": {},
   "outputs": [
    {
     "data": {
      "text/plain": "<Figure size 640x480 with 1 Axes>",
      "image/png": "[encoded data removed]"
     },
     "metadata": {},
     "output_type": "display_data"
    }
   ],
   "source": [
    "sns.histplot([len(text_to_word_sequence(x[1], return_pos=False)) for y in train_list for x in y['sentences']]);"
   ]
  },
  {
   "cell_type": "markdown",
   "metadata": {},
   "source": [
    "Histogram liczby słów w zdaniach w tych recenzjach, które mają spoiler:"
   ]
  },
  {
   "cell_type": "code",
   "execution_count": 16,
   "metadata": {},
   "outputs": [
    {
     "data": {
      "text/plain": "<Figure size 640x480 with 1 Axes>",
      "image/png": "[encoded data removed]"
     },
     "metadata": {},
     "output_type": "display_data"
    }
   ],
   "source": [
    "sns.histplot([len(text_to_word_sequence(x[1], return_pos=False)) for y in train_list for x in y['sentences'] if y['has_spoiler']]);"
   ]
  },
  {
   "cell_type": "markdown",
   "metadata": {},
   "source": [
    "Histogram liczby słów w zdaniach ze spoilerami:"
   ]
  },
  {
   "cell_type": "code",
   "execution_count": 17,
   "metadata": {},
   "outputs": [
    {
     "data": {
      "text/plain": "<Figure size 640x480 with 1 Axes>",
      "image/png": "[encoded data removed]"
     },
     "metadata": {},
     "output_type": "display_data"
    }
   ],
   "source": [
    "sns.histplot([len(text_to_word_sequence(x[1], return_pos=False)) for y in train_list for x in y['sentences'] if x[0]]);"
   ]
  },
  {
   "cell_type": "markdown",
   "metadata": {},
   "source": [
    "Histogram gdzie się w zdaniu kończy spoiler (na którym słowie):"
   ]
  },
  {
   "cell_type": "code",
   "execution_count": 18,
   "metadata": {},
   "outputs": [
    {
     "data": {
      "text/plain": "<Figure size 640x480 with 1 Axes>",
      "image/png": "[encoded data removed]"
     },
     "metadata": {},
     "output_type": "display_data"
    }
   ],
   "source": [
    "sns.histplot([len(text_to_word_sequence(x[1][:z[1]], return_pos=False)) for y in train_list for x in y['sentences'] if x[0] for z in x[2]]);"
   ]
  },
  {
   "cell_type": "markdown",
   "metadata": {},
   "source": [
    "To, że powyższe wykresy są tak podobne sugeruje, że być może dużo zdań jest w całości zaanotowanych jako spoilery. Zatem jaki % zdania jest jak często zaanotowany jako spoiler (w zdaniach ze spoilerami)?"
   ]
  },
  {
   "cell_type": "code",
   "execution_count": 19,
   "metadata": {},
   "outputs": [
    {
     "data": {
      "text/plain": "<Figure size 640x480 with 1 Axes>",
      "image/png": "[encoded data removed]"
     },
     "metadata": {},
     "output_type": "display_data"
    }
   ],
   "source": [
    "sns.histplot([len(text_to_word_sequence(x[1][:z[1]], return_pos=False)) / len(text_to_word_sequence(x[1], return_pos=False)) for y in train_list for x in y['sentences'] if x[0] for z in x[2]]);"
   ]
  },
  {
   "cell_type": "markdown",
   "metadata": {},
   "source": [
    "Wniosek z EDA jest taki, że dużo zdań jest niestety zaanotowanych w całości. Zbiór, który stworzymy do eksperymentów zostanie zrobiony tak:\n",
    "\n",
    "Bierzemy pod lupę jedną recenzję. Z niej wybeiramy zdania tak długo, póki mieścimy się w DIM tokenach. Zdania te rozkładamy na słowa, każde słowo dostaje label 0 (nie-spoiler) lub 1 (spoiler). W ten sposób, uzyskujemy fragmentu tekstu, o max DIM tokenach odpowiednio poanotowane."
   ]
  },
  {
   "cell_type": "code",
   "execution_count": 20,
   "metadata": {},
   "outputs": [],
   "source": [
    "DIM = 64"
   ]
  },
  {
   "cell_type": "code",
   "execution_count": 21,
   "metadata": {},
   "outputs": [],
   "source": [
    "def in_range(interval_1, interval_2):\n",
    "    assert interval_1[0] <= interval_1[1] and interval_2[0] <= interval_2[1]\n",
    "    return interval_1[0] >= interval_2[0] and interval_1[1] <= interval_2[1]"
   ]
  },
  {
   "cell_type": "code",
   "execution_count": 22,
   "metadata": {},
   "outputs": [],
   "source": [
    "def prepare_dataset(data_list):\n",
    "    X_list = []\n",
    "    y_list = []\n",
    "    for data in data_list:\n",
    "        if data[\"has_spoiler\"]:\n",
    "            sentence_data = data[\"sentences\"]\n",
    "            i = 0\n",
    "            while i < len(sentence_data):\n",
    "                # i points to the sentence to process\n",
    "                input_words_list = []\n",
    "                input_labels_list = []\n",
    "                cur_words_count = 0\n",
    "\n",
    "                while i < len(sentence_data):\n",
    "                    next_sentence_words, next_sentence_word_positions = text_to_word_sequence(sentence_data[i][1])\n",
    "                    if cur_words_count + len(next_sentence_words) > DIM:\n",
    "                        if len(next_sentence_words) > DIM:\n",
    "                            i += 1\n",
    "                        break\n",
    "                    cur_words_count += len(next_sentence_words)\n",
    "                    input_words_list.extend(next_sentence_words)\n",
    "                    input_labels_list.extend(any(in_range(pos, spoiler_boundary) for spoiler_boundary in sentence_data[i][2]) for pos in next_sentence_word_positions)\n",
    "                    i += 1\n",
    "\n",
    "                if input_words_list:\n",
    "                    X_list.append(input_words_list)\n",
    "                    y_list.append(input_labels_list)\n",
    "    X_list = [\" \".join(s) for s in X_list]\n",
    "    return X_list, y_list"
   ]
  },
  {
   "cell_type": "code",
   "execution_count": 23,
   "metadata": {},
   "outputs": [],
   "source": [
    "X_train_list, y_train_list = prepare_dataset(train_list)"
   ]
  },
  {
   "cell_type": "code",
   "execution_count": 24,
   "metadata": {},
   "outputs": [
    {
     "data": {
      "text/plain": "(\"celia is this to johnny because he's from a rich well to do family while she's white trash from sugar ditch and doesn't know how to cook clean and can't bear him children\",\n [False,\n  False,\n  False,\n  False,\n  False,\n  False,\n  False,\n  False,\n  False,\n  False,\n  False,\n  False,\n  False,\n  False,\n  False,\n  False,\n  False,\n  False,\n  False,\n  False,\n  False,\n  False,\n  False,\n  False,\n  False,\n  False,\n  False,\n  False,\n  True,\n  True,\n  True,\n  True,\n  True])"
     },
     "execution_count": 24,
     "metadata": {},
     "output_type": "execute_result"
    }
   ],
   "source": [
    "X_train_list[4], y_train_list[4]"
   ]
  },
  {
   "cell_type": "code",
   "execution_count": 25,
   "metadata": {},
   "outputs": [
    {
     "data": {
      "text/plain": "47391"
     },
     "execution_count": 25,
     "metadata": {},
     "output_type": "execute_result"
    }
   ],
   "source": [
    "sum([1 for x in y_train_list if len(set(x)) >= 2])"
   ]
  },
  {
   "cell_type": "code",
   "execution_count": 26,
   "metadata": {},
   "outputs": [
    {
     "data": {
      "text/plain": "20416"
     },
     "execution_count": 26,
     "metadata": {},
     "output_type": "execute_result"
    }
   ],
   "source": [
    "sum([1 for x in y_train_list if set(x) == {True}])"
   ]
  },
  {
   "cell_type": "code",
   "execution_count": 27,
   "metadata": {},
   "outputs": [
    {
     "data": {
      "text/plain": "12067"
     },
     "execution_count": 27,
     "metadata": {},
     "output_type": "execute_result"
    }
   ],
   "source": [
    "sum([1 for x in y_train_list if set(x) == {False}])"
   ]
  },
  {
   "cell_type": "markdown",
   "metadata": {},
   "source": [
    "Mamy 47k zdań mieszanych, 20k zdań zawierających tylko słowa-spoilery i 12k zdań, w których nie ma ani jednego spoilera."
   ]
  },
  {
   "cell_type": "code",
   "execution_count": 28,
   "metadata": {},
   "outputs": [],
   "source": [
    "X_val_list, y_val_list = prepare_dataset(val_list)\n",
    "X_test_list, y_test_list = prepare_dataset(test_list)"
   ]
  },
  {
   "cell_type": "code",
   "execution_count": 29,
   "metadata": {},
   "outputs": [],
   "source": [
    "from tensorflow.keras.preprocessing.text import Tokenizer\n",
    "t = Tokenizer()\n",
    "# Preprocessed_reviews contains all the cleaned reviews.\n",
    "t.fit_on_texts(X_train_list)"
   ]
  },
  {
   "cell_type": "code",
   "execution_count": 30,
   "outputs": [
    {
     "name": "stdout",
     "output_type": "stream",
     "text": [
      "86755\n"
     ]
    }
   ],
   "source": [
    "vocab_size = len(t.word_index) + 1\n",
    "print(vocab_size)"
   ],
   "metadata": {
    "collapsed": false
   }
  },
  {
   "cell_type": "code",
   "execution_count": 31,
   "metadata": {},
   "outputs": [],
   "source": [
    "from tensorflow.keras.preprocessing import sequence\n",
    "\n",
    "X_train = sequence.pad_sequences(t.texts_to_sequences(X_train_list), maxlen=DIM, padding='post')\n",
    "y_train = sequence.pad_sequences(y_train_list, maxlen=DIM, padding='post')\n",
    "\n",
    "X_val = sequence.pad_sequences(t.texts_to_sequences(X_val_list), maxlen=DIM, padding='post')\n",
    "y_val = sequence.pad_sequences(y_val_list, maxlen=DIM, padding='post')\n",
    "\n",
    "X_test = sequence.pad_sequences(t.texts_to_sequences(X_test_list), maxlen=DIM, padding='post')\n",
    "y_test = sequence.pad_sequences(y_test_list, maxlen=DIM, padding='post')"
   ]
  },
  {
   "cell_type": "code",
   "execution_count": 32,
   "metadata": {},
   "outputs": [],
   "source": [
    "import numpy as np\n",
    "embeddings_index = dict()\n",
    "f = open('glove.6B.100d.txt', encoding='utf-8')\n",
    "for line in f:\n",
    "    values = line.split()\n",
    "    word = values[0]\n",
    "    coefs = np.asarray(values[1:], dtype='float32')\n",
    "    embeddings_index[word] = coefs\n",
    "    EMBEDDING_DIM = coefs.size"
   ]
  },
  {
   "cell_type": "code",
   "execution_count": 33,
   "metadata": {},
   "outputs": [],
   "source": [
    "# create a weight matrix for words in training docs\n",
    "embedding_matrix = np.zeros((X_train.max()+1, EMBEDDING_DIM))\n",
    "for word, i in t.word_index.items():\n",
    "    embedding_vector = embeddings_index.get(word)\n",
    "    if embedding_vector is not None:\n",
    "        embedding_matrix[i] = embedding_vector"
   ]
  },
  {
   "cell_type": "code",
   "execution_count": 34,
   "metadata": {},
   "outputs": [],
   "source": [
    "import tensorflow as tf\n",
    "from tensorflow.keras.models import Model\n",
    "from tensorflow.keras.layers import Dense, LSTM, Embedding, Input, Bidirectional, TimeDistributed"
   ]
  },
  {
   "cell_type": "markdown",
   "source": [
    "Binary accuracy dziala dobrze, bo testowałem - PW"
   ],
   "metadata": {
    "collapsed": false
   }
  },
  {
   "cell_type": "code",
   "execution_count": 35,
   "outputs": [],
   "source": [
    "class JaccardSimilarity(tf.keras.metrics.Metric):\n",
    "    def __init__(self, name, **kwargs):\n",
    "        super().__init__(name=name)\n",
    "        self.metric: tf.keras.metrics.Metric = tf.keras.metrics.IoU(**kwargs)\n",
    "\n",
    "    def update_state(self, y_true, y_pred, sample_weight=None):\n",
    "        y_pred = tf.math.greater(y_pred, 0.5)\n",
    "        self.metric.update_state(y_true, y_pred)\n",
    "\n",
    "    def reset_state(self):\n",
    "        self.metric.reset_state()\n",
    "\n",
    "    def result(self):\n",
    "        return self.metric.result()"
   ],
   "metadata": {
    "collapsed": false
   }
  },
  {
   "cell_type": "code",
   "execution_count": 36,
   "outputs": [
    {
     "name": "stderr",
     "output_type": "stream",
     "text": [
      "2023-01-04 23:35:13.039750: I tensorflow/stream_executor/cuda/cuda_gpu_executor.cc:975] successful NUMA node read from SysFS had negative value (-1), but there must be at least one NUMA node, so returning NUMA node zero\n",
      "2023-01-04 23:35:13.053468: I tensorflow/stream_executor/cuda/cuda_gpu_executor.cc:975] successful NUMA node read from SysFS had negative value (-1), but there must be at least one NUMA node, so returning NUMA node zero\n",
      "2023-01-04 23:35:13.053621: I tensorflow/stream_executor/cuda/cuda_gpu_executor.cc:975] successful NUMA node read from SysFS had negative value (-1), but there must be at least one NUMA node, so returning NUMA node zero\n",
      "2023-01-04 23:35:13.054616: I tensorflow/core/platform/cpu_feature_guard.cc:193] This TensorFlow binary is optimized with oneAPI Deep Neural Network Library (oneDNN) to use the following CPU instructions in performance-critical operations:  AVX2 FMA\n",
      "To enable them in other operations, rebuild TensorFlow with the appropriate compiler flags.\n",
      "2023-01-04 23:35:13.055553: I tensorflow/stream_executor/cuda/cuda_gpu_executor.cc:975] successful NUMA node read from SysFS had negative value (-1), but there must be at least one NUMA node, so returning NUMA node zero\n",
      "2023-01-04 23:35:13.055728: I tensorflow/stream_executor/cuda/cuda_gpu_executor.cc:975] successful NUMA node read from SysFS had negative value (-1), but there must be at least one NUMA node, so returning NUMA node zero\n",
      "2023-01-04 23:35:13.055878: I tensorflow/stream_executor/cuda/cuda_gpu_executor.cc:975] successful NUMA node read from SysFS had negative value (-1), but there must be at least one NUMA node, so returning NUMA node zero\n",
      "2023-01-04 23:35:13.386348: I tensorflow/stream_executor/cuda/cuda_gpu_executor.cc:975] successful NUMA node read from SysFS had negative value (-1), but there must be at least one NUMA node, so returning NUMA node zero\n",
      "2023-01-04 23:35:13.386510: I tensorflow/stream_executor/cuda/cuda_gpu_executor.cc:975] successful NUMA node read from SysFS had negative value (-1), but there must be at least one NUMA node, so returning NUMA node zero\n",
      "2023-01-04 23:35:13.386633: I tensorflow/stream_executor/cuda/cuda_gpu_executor.cc:975] successful NUMA node read from SysFS had negative value (-1), but there must be at least one NUMA node, so returning NUMA node zero\n",
      "2023-01-04 23:35:13.386727: I tensorflow/core/common_runtime/gpu/gpu_device.cc:1532] Created device /job:localhost/replica:0/task:0/device:GPU:0 with 4134 MB memory:  -> device: 0, name: NVIDIA GeForce RTX 3060 Laptop GPU, pci bus id: 0000:01:00.0, compute capability: 8.6\n"
     ]
    },
    {
     "name": "stdout",
     "output_type": "stream",
     "text": [
      "Model: \"model\"\n",
      "_________________________________________________________________\n",
      " Layer (type)                Output Shape              Param #   \n",
      "=================================================================\n",
      " input_1 (InputLayer)        [(None, 64)]              0         \n",
      "                                                                 \n",
      " embedding (Embedding)       (None, 64, 100)           8675500   \n",
      "                                                                 \n",
      " bidirectional (Bidirectiona  (None, 64, 512)          731136    \n",
      " l)                                                              \n",
      "                                                                 \n",
      " time_distributed (TimeDistr  (None, 64, 64)           32832     \n",
      " ibuted)                                                         \n",
      "                                                                 \n",
      " time_distributed_1 (TimeDis  (None, 64, 1)            65        \n",
      " tributed)                                                       \n",
      "                                                                 \n",
      "=================================================================\n",
      "Total params: 9,439,533\n",
      "Trainable params: 764,033\n",
      "Non-trainable params: 8,675,500\n",
      "_________________________________________________________________\n"
     ]
    }
   ],
   "source": [
    "##LSTM\n",
    "##fixing numpy RS\n",
    "np.random.seed(0)\n",
    "##fixing tensorflow RS\n",
    "tf.random.set_seed(1)\n",
    "\n",
    "HIDDEN_DIM= 256\n",
    "\n",
    "inputs = Input(shape=(DIM, ), dtype='float32')\n",
    "embedding_layer = Embedding(vocab_size, EMBEDDING_DIM, weights = [embedding_matrix], trainable = False)\n",
    "encoder_LSTM_1 = Bidirectional(LSTM(HIDDEN_DIM, return_sequences=True))\n",
    "\n",
    "dense_layer_relu = TimeDistributed(Dense(DIM, activation='relu'))\n",
    "dense_layer = TimeDistributed(Dense(1, activation='sigmoid'))\n",
    "\n",
    "encoder_embedding = embedding_layer(inputs)\n",
    "encoded_seq = encoder_LSTM_1(encoder_embedding)\n",
    "\n",
    "outputs = dense_layer_relu(encoded_seq)\n",
    "outputs = dense_layer(outputs)\n",
    "\n",
    "model = Model(inputs, outputs)\n",
    "model.compile(loss=tf.keras.losses.BinaryCrossentropy(from_logits=False),\n",
    "              optimizer='adam',\n",
    "              metrics=[\n",
    "                  'binary_accuracy',\n",
    "                  JaccardSimilarity('jaccard_nonspoilers', num_classes=2, target_class_ids=[0]),\n",
    "                  JaccardSimilarity('jaccard_spoilers', num_classes=2, target_class_ids=[1]),\n",
    "                  JaccardSimilarity('mean_jaccard', num_classes=2, target_class_ids=[0, 1])\n",
    "              ])\n",
    "model.summary()"
   ],
   "metadata": {
    "collapsed": false
   }
  },
  {
   "cell_type": "code",
   "execution_count": 37,
   "outputs": [
    {
     "name": "stdout",
     "output_type": "stream",
     "text": [
      "Epoch 1/10\n"
     ]
    },
    {
     "name": "stderr",
     "output_type": "stream",
     "text": [
      "2023-01-04 23:35:16.173603: I tensorflow/stream_executor/cuda/cuda_dnn.cc:384] Loaded cuDNN version 8101\n"
     ]
    },
    {
     "name": "stdout",
     "output_type": "stream",
     "text": [
      "   6/2497 [..............................] - ETA: 27s - loss: 0.6640 - binary_accuracy: 0.6514 - jaccard_nonspoilers: 0.6173 - jaccard_spoilers: 0.2033 - mean_jaccard: 0.4103    "
     ]
    },
    {
     "name": "stderr",
     "output_type": "stream",
     "text": [
      "2023-01-04 23:35:16.685146: I tensorflow/stream_executor/cuda/cuda_blas.cc:1786] TensorFloat-32 will be used for the matrix multiplication. This will only be logged once.\n"
     ]
    },
    {
     "name": "stdout",
     "output_type": "stream",
     "text": [
      "2497/2497 [==============================] - 36s 13ms/step - loss: 0.3547 - binary_accuracy: 0.8016 - jaccard_nonspoilers: 0.7632 - jaccard_spoilers: 0.4493 - mean_jaccard: 0.6063 - val_loss: 0.3582 - val_binary_accuracy: 0.8141 - val_jaccard_nonspoilers: 0.7800 - val_jaccard_spoilers: 0.4543 - val_mean_jaccard: 0.6172\n",
      "Epoch 2/10\n",
      "2497/2497 [==============================] - 32s 13ms/step - loss: 0.3403 - binary_accuracy: 0.8153 - jaccard_nonspoilers: 0.7778 - jaccard_spoilers: 0.4780 - mean_jaccard: 0.6279 - val_loss: 0.3587 - val_binary_accuracy: 0.8169 - val_jaccard_nonspoilers: 0.7755 - val_jaccard_spoilers: 0.5020 - val_mean_jaccard: 0.6387\n",
      "Epoch 3/10\n",
      "2497/2497 [==============================] - 32s 13ms/step - loss: 0.3325 - binary_accuracy: 0.8227 - jaccard_nonspoilers: 0.7857 - jaccard_spoilers: 0.4931 - mean_jaccard: 0.6394 - val_loss: 0.3556 - val_binary_accuracy: 0.8183 - val_jaccard_nonspoilers: 0.7763 - val_jaccard_spoilers: 0.5085 - val_mean_jaccard: 0.6424\n",
      "Epoch 4/10\n",
      "2497/2497 [==============================] - 29s 12ms/step - loss: 0.3232 - binary_accuracy: 0.8308 - jaccard_nonspoilers: 0.7944 - jaccard_spoilers: 0.5110 - mean_jaccard: 0.6527 - val_loss: 0.3520 - val_binary_accuracy: 0.8230 - val_jaccard_nonspoilers: 0.7879 - val_jaccard_spoilers: 0.4831 - val_mean_jaccard: 0.6355\n",
      "Epoch 5/10\n",
      "2497/2497 [==============================] - 32s 13ms/step - loss: 0.3097 - binary_accuracy: 0.8414 - jaccard_nonspoilers: 0.8059 - jaccard_spoilers: 0.5352 - mean_jaccard: 0.6706 - val_loss: 0.3572 - val_binary_accuracy: 0.8208 - val_jaccard_nonspoilers: 0.7866 - val_jaccard_spoilers: 0.4724 - val_mean_jaccard: 0.6295\n",
      "Epoch 6/10\n",
      "2497/2497 [==============================] - 33s 13ms/step - loss: 0.2896 - binary_accuracy: 0.8561 - jaccard_nonspoilers: 0.8223 - jaccard_spoilers: 0.5697 - mean_jaccard: 0.6960 - val_loss: 0.3707 - val_binary_accuracy: 0.8189 - val_jaccard_nonspoilers: 0.7856 - val_jaccard_spoilers: 0.4615 - val_mean_jaccard: 0.6235\n",
      "Epoch 7/10\n",
      "2497/2497 [==============================] - 32s 13ms/step - loss: 0.2630 - binary_accuracy: 0.8735 - jaccard_nonspoilers: 0.8418 - jaccard_spoilers: 0.6129 - mean_jaccard: 0.7273 - val_loss: 0.3812 - val_binary_accuracy: 0.8164 - val_jaccard_nonspoilers: 0.7790 - val_jaccard_spoilers: 0.4798 - val_mean_jaccard: 0.6294\n",
      "Epoch 8/10\n",
      "2497/2497 [==============================] - 33s 13ms/step - loss: 0.2348 - binary_accuracy: 0.8902 - jaccard_nonspoilers: 0.8611 - jaccard_spoilers: 0.6558 - mean_jaccard: 0.7585 - val_loss: 0.4187 - val_binary_accuracy: 0.8092 - val_jaccard_nonspoilers: 0.7686 - val_jaccard_spoilers: 0.4794 - val_mean_jaccard: 0.6240\n",
      "Epoch 9/10\n",
      "2497/2497 [==============================] - 33s 13ms/step - loss: 0.2085 - binary_accuracy: 0.9054 - jaccard_nonspoilers: 0.8792 - jaccard_spoilers: 0.6967 - mean_jaccard: 0.7880 - val_loss: 0.4375 - val_binary_accuracy: 0.8126 - val_jaccard_nonspoilers: 0.7801 - val_jaccard_spoilers: 0.4414 - val_mean_jaccard: 0.6107\n",
      "Epoch 10/10\n",
      "2497/2497 [==============================] - 32s 13ms/step - loss: 0.1861 - binary_accuracy: 0.9177 - jaccard_nonspoilers: 0.8940 - jaccard_spoilers: 0.7306 - mean_jaccard: 0.8123 - val_loss: 0.4740 - val_binary_accuracy: 0.8065 - val_jaccard_nonspoilers: 0.7665 - val_jaccard_spoilers: 0.4692 - val_mean_jaccard: 0.6179\n"
     ]
    },
    {
     "data": {
      "text/plain": "<keras.callbacks.History at 0x7fa2ba696b90>"
     },
     "execution_count": 37,
     "metadata": {},
     "output_type": "execute_result"
    }
   ],
   "source": [
    "checkpoint_name = f\"./checkpoints/lstm-best-val\"\n",
    "\n",
    "model_checkpoint_callback = tf.keras.callbacks.ModelCheckpoint(\n",
    "    filepath=checkpoint_name,\n",
    "    save_weights_only=True,\n",
    "    monitor=\"val_binary_accuracy\",\n",
    "    mode=\"max\",\n",
    "    save_best_only=True,\n",
    ")\n",
    "\n",
    "model.fit(x=X_train, y=y_train, validation_data=(X_val, y_val), epochs=10, batch_size=32, callbacks=[model_checkpoint_callback])"
   ],
   "metadata": {
    "collapsed": false
   }
  },
  {
   "cell_type": "code",
   "execution_count": 39,
   "outputs": [
    {
     "name": "stdout",
     "output_type": "stream",
     "text": [
      "314/314 [==============================] - 2s 7ms/step - loss: 0.3630 - binary_accuracy: 0.8169 - jaccard_nonspoilers: 0.7811 - jaccard_spoilers: 0.4718 - mean_jaccard: 0.6264\n"
     ]
    },
    {
     "data": {
      "text/plain": "[0.3630236089229584,\n 0.8168897032737732,\n 0.7810915112495422,\n 0.47175756096839905,\n 0.6264245510101318]"
     },
     "execution_count": 39,
     "metadata": {},
     "output_type": "execute_result"
    }
   ],
   "source": [
    "model.load_weights(checkpoint_name)\n",
    "model.evaluate(X_test, y_test)"
   ],
   "metadata": {
    "collapsed": false
   }
  },
  {
   "cell_type": "code",
   "execution_count": null,
   "outputs": [],
   "source": [],
   "metadata": {
    "collapsed": false
   }
  }
 ],
 "metadata": {
  "kernelspec": {
   "display_name": "Python 3 (ipykernel)",
   "language": "python",
   "name": "python3"
  },
  "language_info": {
   "codemirror_mode": {
    "name": "ipython",
    "version": 3
   },
   "file_extension": ".py",
   "mimetype": "text/x-python",
   "name": "python",
   "nbconvert_exporter": "python",
   "pygments_lexer": "ipython3",
   "version": "3.10.0"
  }
 },
 "nbformat": 4,
 "nbformat_minor": 1
}
